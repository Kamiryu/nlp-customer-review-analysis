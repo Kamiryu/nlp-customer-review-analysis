{
 "cells": [
  {
   "cell_type": "code",
   "execution_count": 32,
   "metadata": {},
   "outputs": [],
   "source": [
    "import pandas as pd\n",
    "import ast as ast\n",
    "import numpy as np\n",
    "from typing import *\n",
    "\n",
    "from task_2_helpers import *\n",
    "from collections import Counter\n",
    "\n",
    "import tensorflow as tf\n",
    "from tensorflow import keras\n",
    "from tensorflow.keras import layers, losses, optimizers\n",
    "from tensorflow.keras import Sequential\n",
    "\n",
    "import nltk\n",
    "from nltk.tokenize import word_tokenize\n",
    "\n",
    "import datasets\n",
    "from transformers import pipeline\n",
    "\n",
    "# from task2_business_KNN import classify_Kmeans\n"
   ]
  },
  {
   "attachments": {},
   "cell_type": "markdown",
   "metadata": {},
   "source": [
    "### Data Read"
   ]
  },
  {
   "cell_type": "code",
   "execution_count": 2,
   "metadata": {},
   "outputs": [
    {
     "name": "stdout",
     "output_type": "stream",
     "text": [
      "(138210, 11)\n"
     ]
    }
   ],
   "source": [
    "# df_business = pd.read_parquet('data/ATML2024_businesses.parquet')\n",
    "df_business = pd.read_csv('data/ATML2024_businesses.csv', header=0)\n",
    "print(df_business.shape)\n",
    "# df_Train_reviews = pd.read_parquet('data/ATML2024_reviews_train.parquet')\n",
    "df_Train_reviews = pd.read_csv('data/ATML2024_reviews_train.csv', header=0)\n",
    "\n",
    "# # df_users = pd.read_parquet('data/ATML2024_users.parquet')\n",
    "# df_users = pd.read_csv('data/ATML2024_users.csv', header=0, nrows=100)"
   ]
  },
  {
   "cell_type": "code",
   "execution_count": 3,
   "metadata": {},
   "outputs": [
    {
     "data": {
      "text/plain": [
       "postal_code\n",
       "False    138145\n",
       "True         65\n",
       "Name: count, dtype: int64"
      ]
     },
     "execution_count": 3,
     "metadata": {},
     "output_type": "execute_result"
    }
   ],
   "source": [
    "df_business.postal_code.isna().value_counts()"
   ]
  },
  {
   "cell_type": "code",
   "execution_count": 4,
   "metadata": {},
   "outputs": [
    {
     "name": "stdout",
     "output_type": "stream",
     "text": [
      "19707\n"
     ]
    }
   ],
   "source": [
    "zipCodes = dict(df_business.postal_code.value_counts())\n",
    "\n",
    "val_count = 0\n",
    "for z in zipCodes.keys():\n",
    "    try:\n",
    "        zcode = int(z)\n",
    "        if zcode >= 19019 and  zcode <= 19255: ### Philadelphia zip codes\n",
    "            val_count += zipCodes[str(z)]\n",
    "    except:\n",
    "        continue\n",
    "\n",
    "print(val_count)"
   ]
  },
  {
   "cell_type": "code",
   "execution_count": 5,
   "metadata": {},
   "outputs": [
    {
     "name": "stdout",
     "output_type": "stream",
     "text": [
      "(13617, 11)\n"
     ]
    }
   ],
   "source": [
    "bussiness_city = ['Phila','Philadelphia', 'Philadelphia', 'Philadelphia (Northeast Philly)', 'Philadelphia PA', 'Philadelphila', 'Philadephia', 'Philiadelphia', \n",
    "                  'Philiidelphia', 'Philly', 'Southwest Philadelphia', 'West Philadelphia', 'philadelphia', 'PHILA', 'PHILADELPHIA']\n",
    "print(df_business[df_business['city'].isin(bussiness_city)].shape)\n"
   ]
  },
  {
   "attachments": {},
   "cell_type": "markdown",
   "metadata": {},
   "source": [
    "### Cleanup business data columns"
   ]
  },
  {
   "cell_type": "code",
   "execution_count": 6,
   "metadata": {},
   "outputs": [
    {
     "data": {
      "text/html": [
       "<div>\n",
       "<style scoped>\n",
       "    .dataframe tbody tr th:only-of-type {\n",
       "        vertical-align: middle;\n",
       "    }\n",
       "\n",
       "    .dataframe tbody tr th {\n",
       "        vertical-align: top;\n",
       "    }\n",
       "\n",
       "    .dataframe thead th {\n",
       "        text-align: right;\n",
       "    }\n",
       "</style>\n",
       "<table border=\"1\" class=\"dataframe\">\n",
       "  <thead>\n",
       "    <tr style=\"text-align: right;\">\n",
       "      <th></th>\n",
       "      <th>business_id</th>\n",
       "      <th>name</th>\n",
       "      <th>address</th>\n",
       "      <th>city</th>\n",
       "      <th>state</th>\n",
       "      <th>postal_code</th>\n",
       "      <th>latitude</th>\n",
       "      <th>longitude</th>\n",
       "      <th>attributes</th>\n",
       "      <th>categories</th>\n",
       "      <th>hours</th>\n",
       "      <th>postal_code_int</th>\n",
       "    </tr>\n",
       "  </thead>\n",
       "  <tbody>\n",
       "    <tr>\n",
       "      <th>0</th>\n",
       "      <td>wPYArZCy3AETdTjB-x3fpm</td>\n",
       "      <td>The UPS Store</td>\n",
       "      <td>87 Grasso Plaza Shopping Center</td>\n",
       "      <td>Affton</td>\n",
       "      <td>MO</td>\n",
       "      <td>63123</td>\n",
       "      <td>38.551126</td>\n",
       "      <td>-90.335695</td>\n",
       "      <td>{'BusinessAcceptsCreditCards': 'True'}</td>\n",
       "      <td>Shipping Centers, Local Services, Notaries, Ma...</td>\n",
       "      <td>{'Monday': '0:0-0:0', 'Tuesday': '8:0-18:30', ...</td>\n",
       "      <td>63123.0</td>\n",
       "    </tr>\n",
       "    <tr>\n",
       "      <th>1</th>\n",
       "      <td>QQNIWVsnAT_iKiKriWrFUt</td>\n",
       "      <td>Target</td>\n",
       "      <td>5255 E Broadway Blvd</td>\n",
       "      <td>Tucson</td>\n",
       "      <td>AZ</td>\n",
       "      <td>85711</td>\n",
       "      <td>32.223236</td>\n",
       "      <td>-110.880452</td>\n",
       "      <td>{'BikeParking': 'True', 'BusinessAcceptsCredit...</td>\n",
       "      <td>Department Stores, Shopping, Fashion, Home &amp; G...</td>\n",
       "      <td>{'Monday': '8:0-22:0', 'Tuesday': '8:0-22:0', ...</td>\n",
       "      <td>85711.0</td>\n",
       "    </tr>\n",
       "    <tr>\n",
       "      <th>2</th>\n",
       "      <td>wm9eoqjytVbC7dQcM4WSTM</td>\n",
       "      <td>St Honore Pastries</td>\n",
       "      <td>935 Race St</td>\n",
       "      <td>Philadelphia</td>\n",
       "      <td>PA</td>\n",
       "      <td>19107</td>\n",
       "      <td>39.955505</td>\n",
       "      <td>-75.155564</td>\n",
       "      <td>{'RestaurantsDelivery': 'False', 'OutdoorSeati...</td>\n",
       "      <td>Restaurants, Food, Bubble Tea, Coffee &amp; Tea, B...</td>\n",
       "      <td>{'Monday': '7:0-20:0', 'Tuesday': '7:0-20:0', ...</td>\n",
       "      <td>19107.0</td>\n",
       "    </tr>\n",
       "    <tr>\n",
       "      <th>3</th>\n",
       "      <td>AfVDXGIKBUE0EdTw_6cMWm</td>\n",
       "      <td>Perkiomen Valley Brewery</td>\n",
       "      <td>101 Walnut St</td>\n",
       "      <td>Green Lane</td>\n",
       "      <td>PA</td>\n",
       "      <td>18054</td>\n",
       "      <td>40.338183</td>\n",
       "      <td>-75.471659</td>\n",
       "      <td>{'BusinessAcceptsCreditCards': 'True', 'Wheelc...</td>\n",
       "      <td>Brewpubs, Breweries, Food</td>\n",
       "      <td>{'Wednesday': '14:0-22:0', 'Thursday': '16:0-2...</td>\n",
       "      <td>18054.0</td>\n",
       "    </tr>\n",
       "    <tr>\n",
       "      <th>4</th>\n",
       "      <td>QjvanH64QUduo6E-8F33FC</td>\n",
       "      <td>Sonic Drive-In</td>\n",
       "      <td>615 S Main St</td>\n",
       "      <td>Ashland City</td>\n",
       "      <td>TN</td>\n",
       "      <td>37015</td>\n",
       "      <td>36.269593</td>\n",
       "      <td>-87.058943</td>\n",
       "      <td>{'BusinessParking': 'None', 'BusinessAcceptsCr...</td>\n",
       "      <td>Burgers, Fast Food, Sandwiches, Food, Ice Crea...</td>\n",
       "      <td>{'Monday': '0:0-0:0', 'Tuesday': '6:0-22:0', '...</td>\n",
       "      <td>37015.0</td>\n",
       "    </tr>\n",
       "  </tbody>\n",
       "</table>\n",
       "</div>"
      ],
      "text/plain": [
       "              business_id                      name  \\\n",
       "0  wPYArZCy3AETdTjB-x3fpm             The UPS Store   \n",
       "1  QQNIWVsnAT_iKiKriWrFUt                    Target   \n",
       "2  wm9eoqjytVbC7dQcM4WSTM        St Honore Pastries   \n",
       "3  AfVDXGIKBUE0EdTw_6cMWm  Perkiomen Valley Brewery   \n",
       "4  QjvanH64QUduo6E-8F33FC            Sonic Drive-In   \n",
       "\n",
       "                           address          city state postal_code   latitude  \\\n",
       "0  87 Grasso Plaza Shopping Center        Affton    MO       63123  38.551126   \n",
       "1             5255 E Broadway Blvd        Tucson    AZ       85711  32.223236   \n",
       "2                      935 Race St  Philadelphia    PA       19107  39.955505   \n",
       "3                    101 Walnut St    Green Lane    PA       18054  40.338183   \n",
       "4                    615 S Main St  Ashland City    TN       37015  36.269593   \n",
       "\n",
       "    longitude                                         attributes  \\\n",
       "0  -90.335695             {'BusinessAcceptsCreditCards': 'True'}   \n",
       "1 -110.880452  {'BikeParking': 'True', 'BusinessAcceptsCredit...   \n",
       "2  -75.155564  {'RestaurantsDelivery': 'False', 'OutdoorSeati...   \n",
       "3  -75.471659  {'BusinessAcceptsCreditCards': 'True', 'Wheelc...   \n",
       "4  -87.058943  {'BusinessParking': 'None', 'BusinessAcceptsCr...   \n",
       "\n",
       "                                          categories  \\\n",
       "0  Shipping Centers, Local Services, Notaries, Ma...   \n",
       "1  Department Stores, Shopping, Fashion, Home & G...   \n",
       "2  Restaurants, Food, Bubble Tea, Coffee & Tea, B...   \n",
       "3                          Brewpubs, Breweries, Food   \n",
       "4  Burgers, Fast Food, Sandwiches, Food, Ice Crea...   \n",
       "\n",
       "                                               hours  postal_code_int  \n",
       "0  {'Monday': '0:0-0:0', 'Tuesday': '8:0-18:30', ...          63123.0  \n",
       "1  {'Monday': '8:0-22:0', 'Tuesday': '8:0-22:0', ...          85711.0  \n",
       "2  {'Monday': '7:0-20:0', 'Tuesday': '7:0-20:0', ...          19107.0  \n",
       "3  {'Wednesday': '14:0-22:0', 'Thursday': '16:0-2...          18054.0  \n",
       "4  {'Monday': '0:0-0:0', 'Tuesday': '6:0-22:0', '...          37015.0  "
      ]
     },
     "execution_count": 6,
     "metadata": {},
     "output_type": "execute_result"
    }
   ],
   "source": [
    "df_business['postal_code_int'] = pd.to_numeric(df_business['postal_code'], errors='coerce', downcast='integer')\n",
    "df_business.head()"
   ]
  },
  {
   "cell_type": "code",
   "execution_count": 7,
   "metadata": {},
   "outputs": [
    {
     "name": "stdout",
     "output_type": "stream",
     "text": [
      "(19707, 12)\n",
      "(19707, 12)\n",
      "(19707, 12)\n",
      "(19707, 13)\n"
     ]
    }
   ],
   "source": [
    "# Convert dictionary columns to the correct types @@@@ Run only once\n",
    "df_business_ph = df_business.loc[ (df_business['postal_code_int'] >= 19019) & (df_business['postal_code_int'] <= 19255) ].copy()\n",
    "print(df_business_ph.shape)\n",
    "df_business_ph['attributes'] = df_business_ph['attributes'].apply(lambda x: ast.literal_eval(x) if not pd.isna(x) or not pd.isnull(x)  else dict())\n",
    "print(df_business_ph.shape)\n",
    "df_business_ph['hours'] = df_business_ph['hours'].apply(lambda x: ast.literal_eval(x) if not pd.isna(x) or not pd.isnull(x)  else dict())\n",
    "print(df_business_ph.shape)\n",
    "\n",
    "# df_business['weekend'] = df_business['hours'].apply(lambda x: extract_weekend_value(x))\n",
    "df_business_ph['hours_list'] = df_business_ph['hours'].apply(lambda x: extract_hours_value(x))\n",
    "\n",
    "print(df_business_ph.shape)"
   ]
  },
  {
   "cell_type": "code",
   "execution_count": 8,
   "metadata": {},
   "outputs": [],
   "source": [
    "df_business_ph['attributes_list'] = df_business_ph['attributes'].apply(lambda x: sorted(extract_attributes_value(x)))\n",
    "df_business_ph['categories_list'] = df_business_ph['categories'].apply(lambda x: sorted(map(lambda a: a.strip().lower(), x.split(',')) ) if isinstance(x, str) else [x])"
   ]
  },
  {
   "attachments": {},
   "cell_type": "markdown",
   "metadata": {},
   "source": [
    "### Join Business Data With Ratings Data and Conduct Exploratory Data Analysis (EDA)"
   ]
  },
  {
   "cell_type": "code",
   "execution_count": 9,
   "metadata": {},
   "outputs": [
    {
     "name": "stdout",
     "output_type": "stream",
     "text": [
      "(176549, 10)\n"
     ]
    },
    {
     "data": {
      "text/html": [
       "<div>\n",
       "<style scoped>\n",
       "    .dataframe tbody tr th:only-of-type {\n",
       "        vertical-align: middle;\n",
       "    }\n",
       "\n",
       "    .dataframe tbody tr th {\n",
       "        vertical-align: top;\n",
       "    }\n",
       "\n",
       "    .dataframe thead th {\n",
       "        text-align: right;\n",
       "    }\n",
       "</style>\n",
       "<table border=\"1\" class=\"dataframe\">\n",
       "  <thead>\n",
       "    <tr style=\"text-align: right;\">\n",
       "      <th></th>\n",
       "      <th>business_id</th>\n",
       "      <th>postal_code_int</th>\n",
       "      <th>attributes_list</th>\n",
       "      <th>hours_list</th>\n",
       "      <th>categories_list</th>\n",
       "      <th>rating</th>\n",
       "      <th>useful</th>\n",
       "      <th>funny</th>\n",
       "      <th>cool</th>\n",
       "      <th>text</th>\n",
       "    </tr>\n",
       "  </thead>\n",
       "  <tbody>\n",
       "    <tr>\n",
       "      <th>0</th>\n",
       "      <td>wm9eoqjytVbC7dQcM4WSTM</td>\n",
       "      <td>19107.0</td>\n",
       "      <td>[Alcohol, BikeParking, BusinessAcceptsCreditCa...</td>\n",
       "      <td>[[7.0, 20.0], [7.0, 20.0], [7.0, 20.0], [7.0, ...</td>\n",
       "      <td>[bakeries, bubble tea, coffee &amp; tea, food, res...</td>\n",
       "      <td>4</td>\n",
       "      <td>1</td>\n",
       "      <td>0</td>\n",
       "      <td>2</td>\n",
       "      <td>So I don't know how the other review was doubl...</td>\n",
       "    </tr>\n",
       "    <tr>\n",
       "      <th>1</th>\n",
       "      <td>wm9eoqjytVbC7dQcM4WSTM</td>\n",
       "      <td>19107.0</td>\n",
       "      <td>[Alcohol, BikeParking, BusinessAcceptsCreditCa...</td>\n",
       "      <td>[[7.0, 20.0], [7.0, 20.0], [7.0, 20.0], [7.0, ...</td>\n",
       "      <td>[bakeries, bubble tea, coffee &amp; tea, food, res...</td>\n",
       "      <td>5</td>\n",
       "      <td>0</td>\n",
       "      <td>0</td>\n",
       "      <td>0</td>\n",
       "      <td>I love this place..  I love their chunky fried...</td>\n",
       "    </tr>\n",
       "    <tr>\n",
       "      <th>2</th>\n",
       "      <td>wm9eoqjytVbC7dQcM4WSTM</td>\n",
       "      <td>19107.0</td>\n",
       "      <td>[Alcohol, BikeParking, BusinessAcceptsCreditCa...</td>\n",
       "      <td>[[7.0, 20.0], [7.0, 20.0], [7.0, 20.0], [7.0, ...</td>\n",
       "      <td>[bakeries, bubble tea, coffee &amp; tea, food, res...</td>\n",
       "      <td>5</td>\n",
       "      <td>0</td>\n",
       "      <td>0</td>\n",
       "      <td>1</td>\n",
       "      <td>I ordered so many cake from here for our famil...</td>\n",
       "    </tr>\n",
       "    <tr>\n",
       "      <th>3</th>\n",
       "      <td>wm9eoqjytVbC7dQcM4WSTM</td>\n",
       "      <td>19107.0</td>\n",
       "      <td>[Alcohol, BikeParking, BusinessAcceptsCreditCa...</td>\n",
       "      <td>[[7.0, 20.0], [7.0, 20.0], [7.0, 20.0], [7.0, ...</td>\n",
       "      <td>[bakeries, bubble tea, coffee &amp; tea, food, res...</td>\n",
       "      <td>4</td>\n",
       "      <td>0</td>\n",
       "      <td>0</td>\n",
       "      <td>0</td>\n",
       "      <td>Ordered a birthday cake here for the first tim...</td>\n",
       "    </tr>\n",
       "    <tr>\n",
       "      <th>4</th>\n",
       "      <td>wm9eoqjytVbC7dQcM4WSTM</td>\n",
       "      <td>19107.0</td>\n",
       "      <td>[Alcohol, BikeParking, BusinessAcceptsCreditCa...</td>\n",
       "      <td>[[7.0, 20.0], [7.0, 20.0], [7.0, 20.0], [7.0, ...</td>\n",
       "      <td>[bakeries, bubble tea, coffee &amp; tea, food, res...</td>\n",
       "      <td>5</td>\n",
       "      <td>1</td>\n",
       "      <td>0</td>\n",
       "      <td>0</td>\n",
       "      <td>This is my favorite bakery in Chinatown! It's ...</td>\n",
       "    </tr>\n",
       "  </tbody>\n",
       "</table>\n",
       "</div>"
      ],
      "text/plain": [
       "              business_id  postal_code_int  \\\n",
       "0  wm9eoqjytVbC7dQcM4WSTM          19107.0   \n",
       "1  wm9eoqjytVbC7dQcM4WSTM          19107.0   \n",
       "2  wm9eoqjytVbC7dQcM4WSTM          19107.0   \n",
       "3  wm9eoqjytVbC7dQcM4WSTM          19107.0   \n",
       "4  wm9eoqjytVbC7dQcM4WSTM          19107.0   \n",
       "\n",
       "                                     attributes_list  \\\n",
       "0  [Alcohol, BikeParking, BusinessAcceptsCreditCa...   \n",
       "1  [Alcohol, BikeParking, BusinessAcceptsCreditCa...   \n",
       "2  [Alcohol, BikeParking, BusinessAcceptsCreditCa...   \n",
       "3  [Alcohol, BikeParking, BusinessAcceptsCreditCa...   \n",
       "4  [Alcohol, BikeParking, BusinessAcceptsCreditCa...   \n",
       "\n",
       "                                          hours_list  \\\n",
       "0  [[7.0, 20.0], [7.0, 20.0], [7.0, 20.0], [7.0, ...   \n",
       "1  [[7.0, 20.0], [7.0, 20.0], [7.0, 20.0], [7.0, ...   \n",
       "2  [[7.0, 20.0], [7.0, 20.0], [7.0, 20.0], [7.0, ...   \n",
       "3  [[7.0, 20.0], [7.0, 20.0], [7.0, 20.0], [7.0, ...   \n",
       "4  [[7.0, 20.0], [7.0, 20.0], [7.0, 20.0], [7.0, ...   \n",
       "\n",
       "                                     categories_list  rating  useful  funny  \\\n",
       "0  [bakeries, bubble tea, coffee & tea, food, res...       4       1      0   \n",
       "1  [bakeries, bubble tea, coffee & tea, food, res...       5       0      0   \n",
       "2  [bakeries, bubble tea, coffee & tea, food, res...       5       0      0   \n",
       "3  [bakeries, bubble tea, coffee & tea, food, res...       4       0      0   \n",
       "4  [bakeries, bubble tea, coffee & tea, food, res...       5       1      0   \n",
       "\n",
       "   cool                                               text  \n",
       "0     2  So I don't know how the other review was doubl...  \n",
       "1     0  I love this place..  I love their chunky fried...  \n",
       "2     1  I ordered so many cake from here for our famil...  \n",
       "3     0  Ordered a birthday cake here for the first tim...  \n",
       "4     0  This is my favorite bakery in Chinatown! It's ...  "
      ]
     },
     "execution_count": 9,
     "metadata": {},
     "output_type": "execute_result"
    }
   ],
   "source": [
    "df_business_data = df_business_ph[['business_id', 'postal_code_int', 'attributes_list', 'hours_list', 'categories_list']]\n",
    "df_ratings_data = df_Train_reviews[['business_id', 'rating', 'useful', 'funny', 'cool', 'text']]\n",
    "\n",
    "df_data = pd.merge(df_business_data, df_ratings_data, left_on= 'business_id', right_on='business_id')\n",
    "print(df_data.shape)\n",
    "df_data.head()"
   ]
  },
  {
   "cell_type": "code",
   "execution_count": 10,
   "metadata": {},
   "outputs": [
    {
     "name": "stdout",
     "output_type": "stream",
     "text": [
      "(176549, 10)\n"
     ]
    }
   ],
   "source": [
    "df_data.to_parquet('data/ATML2024_Task2_PhiliBussRatings.parquet')\n",
    "print(df_data.shape)"
   ]
  },
  {
   "attachments": {},
   "cell_type": "markdown",
   "metadata": {},
   "source": [
    "### Explanatory Data Analysis"
   ]
  },
  {
   "cell_type": "code",
   "execution_count": 11,
   "metadata": {},
   "outputs": [
    {
     "name": "stdout",
     "output_type": "stream",
     "text": [
      "(176549, 10)\n",
      "Index(['business_id', 'postal_code_int', 'attributes_list', 'hours_list',\n",
      "       'categories_list', 'rating', 'useful', 'funny', 'cool', 'text'],\n",
      "      dtype='object')\n"
     ]
    },
    {
     "data": {
      "text/plain": [
       "(123414, 10)"
      ]
     },
     "execution_count": 11,
     "metadata": {},
     "output_type": "execute_result"
    }
   ],
   "source": [
    "df_data = pd.read_parquet('data/ATML2024_Task2_PhiliBussRatings.parquet', engine='pyarrow')\n",
    "print(df_data.shape)\n",
    "print(df_data.columns)\n",
    "\n",
    "df_data_res = df_data[df_data['categories_list'].apply(lambda x: any('restaurants' in str(a).lower() for a in x)\n",
    "                       or any('restaurant' in str(a).lower() for a in x))]\n",
    "df_data_res.shape\n"
   ]
  },
  {
   "cell_type": "code",
   "execution_count": 12,
   "metadata": {},
   "outputs": [],
   "source": [
    "# all_uniq_cat = set(np.concatenate(df_data.categories_list.values).ravel()) #df_data.categories_list.values.flatten()\n",
    "# all_uniq_attr = set(np.concatenate(df_data.attributes_list.values).ravel()) #df_data.categories_list.values.flatten()"
   ]
  },
  {
   "cell_type": "markdown",
   "metadata": {},
   "source": [
    "#### 2.0 Find out which one of the categories are related to restaurant services\n",
    "\n",
    "Before deal with the reviews and treds in them, we need to identify which one of the businesses are actually in the restaurant and related area."
   ]
  },
  {
   "cell_type": "code",
   "execution_count": 13,
   "metadata": {},
   "outputs": [
    {
     "name": "stdout",
     "output_type": "stream",
     "text": [
      "Total number of distinct categories of business: 1081\n",
      "The most frequest categories : [('restaurants', 123410), ('food', 47310), ('nightlife', 40206), ('bars', 38164), ('american (new)', 26829), ('breakfast & brunch', 22358), ('american (traditional)', 21800), ('sandwiches', 19789), ('italian', 15313), ('coffee & tea', 14008)]\n",
      "(123414, 10)\n"
     ]
    }
   ],
   "source": [
    "business_cat = np.concatenate(df_data.categories_list.values).ravel()\n",
    "c = Counter(business_cat)\n",
    "\n",
    "print(f'Total number of distinct categories of business: {len(c)}')\n",
    "\n",
    "print(f'The most frequest categories : {c.most_common(10)}')\n",
    "\n",
    "df_data_res = df_data[df_data['categories_list'].apply(lambda x: any('restaurants' in str(a).lower() for a in x)\n",
    "                       or any('restaurant' in str(a).lower() for a in x))]\n",
    "                                                                \n",
    "print(df_data_res.shape)                                                    "
   ]
  },
  {
   "cell_type": "markdown",
   "metadata": {},
   "source": [
    "### 2.2 What is the food trend of Philadelphia"
   ]
  },
  {
   "cell_type": "code",
   "execution_count": null,
   "metadata": {},
   "outputs": [],
   "source": []
  },
  {
   "cell_type": "code",
   "execution_count": 14,
   "metadata": {},
   "outputs": [],
   "source": [
    "# rating_1_cat = set(np.concatenate(df_data[df_data.rating == 1].categories_list.values).ravel())\n",
    "# rating_2_cat = set(np.concatenate(df_data[df_data.rating == 2].categories_list.values).ravel())\n",
    "# rating_3_cat = set(np.concatenate(df_data[df_data.rating == 3].categories_list.values).ravel())\n",
    "# rating_4_cat = set(np.concatenate(df_data[df_data.rating == 4].categories_list.values).ravel())\n",
    "# rating_5_cat = set(np.concatenate(df_data[df_data.rating == 5].categories_list.values).ravel())"
   ]
  },
  {
   "cell_type": "markdown",
   "metadata": {},
   "source": [
    "#### Transformer (Kyril)"
   ]
  },
  {
   "cell_type": "code",
   "execution_count": 16,
   "metadata": {},
   "outputs": [
    {
     "name": "stderr",
     "output_type": "stream",
     "text": [
      "2024-05-18 17:41:49.098139: W tensorflow/tsl/framework/cpu_allocator_impl.cc:83] Allocation of 93763584 exceeds 10% of free system memory.\n",
      "2024-05-18 17:41:49.191612: W tensorflow/tsl/framework/cpu_allocator_impl.cc:83] Allocation of 93763584 exceeds 10% of free system memory.\n",
      "2024-05-18 17:41:49.210029: W tensorflow/tsl/framework/cpu_allocator_impl.cc:83] Allocation of 93763584 exceeds 10% of free system memory.\n",
      "2024-05-18 17:41:50.451561: W tensorflow/tsl/framework/cpu_allocator_impl.cc:83] Allocation of 93763584 exceeds 10% of free system memory.\n",
      "All PyTorch model weights were used when initializing TFDistilBertForSequenceClassification.\n",
      "\n",
      "All the weights of TFDistilBertForSequenceClassification were initialized from the PyTorch model.\n",
      "If your task is similar to the task the model of the checkpoint was trained on, you can already use TFDistilBertForSequenceClassification for predictions without further training.\n"
     ]
    }
   ],
   "source": [
    "sent_pipe = pipeline(\"sentiment-analysis\", # or \"text-classification\"\n",
    "                     model=\"distilbert-base-uncased-finetuned-sst-2-english\")"
   ]
  },
  {
   "cell_type": "code",
   "execution_count": 30,
   "metadata": {},
   "outputs": [
    {
     "data": {
      "text/html": [
       "<div>\n",
       "<style scoped>\n",
       "    .dataframe tbody tr th:only-of-type {\n",
       "        vertical-align: middle;\n",
       "    }\n",
       "\n",
       "    .dataframe tbody tr th {\n",
       "        vertical-align: top;\n",
       "    }\n",
       "\n",
       "    .dataframe thead th {\n",
       "        text-align: right;\n",
       "    }\n",
       "</style>\n",
       "<table border=\"1\" class=\"dataframe\">\n",
       "  <thead>\n",
       "    <tr style=\"text-align: right;\">\n",
       "      <th></th>\n",
       "      <th>label</th>\n",
       "      <th>score</th>\n",
       "    </tr>\n",
       "  </thead>\n",
       "  <tbody>\n",
       "    <tr>\n",
       "      <th>0</th>\n",
       "      <td>POSITIVE</td>\n",
       "      <td>0.999876</td>\n",
       "    </tr>\n",
       "    <tr>\n",
       "      <th>1</th>\n",
       "      <td>POSITIVE</td>\n",
       "      <td>0.999232</td>\n",
       "    </tr>\n",
       "    <tr>\n",
       "      <th>2</th>\n",
       "      <td>POSITIVE</td>\n",
       "      <td>0.998684</td>\n",
       "    </tr>\n",
       "    <tr>\n",
       "      <th>3</th>\n",
       "      <td>NEGATIVE</td>\n",
       "      <td>0.999704</td>\n",
       "    </tr>\n",
       "    <tr>\n",
       "      <th>4</th>\n",
       "      <td>NEGATIVE</td>\n",
       "      <td>0.999716</td>\n",
       "    </tr>\n",
       "    <tr>\n",
       "      <th>5</th>\n",
       "      <td>NEGATIVE</td>\n",
       "      <td>0.952196</td>\n",
       "    </tr>\n",
       "    <tr>\n",
       "      <th>6</th>\n",
       "      <td>POSITIVE</td>\n",
       "      <td>0.997672</td>\n",
       "    </tr>\n",
       "  </tbody>\n",
       "</table>\n",
       "</div>"
      ],
      "text/plain": [
       "      label     score\n",
       "0  POSITIVE  0.999876\n",
       "1  POSITIVE  0.999232\n",
       "2  POSITIVE  0.998684\n",
       "3  NEGATIVE  0.999704\n",
       "4  NEGATIVE  0.999716\n",
       "5  NEGATIVE  0.952196\n",
       "6  POSITIVE  0.997672"
      ]
     },
     "execution_count": 30,
     "metadata": {},
     "output_type": "execute_result"
    }
   ],
   "source": [
    "aa = sent_pipe([\"I am happy.\",\"hi there\", \"You are a fool but friendly\", \"You are a fool\",\"I don't care\", \"What is going on over there\",\"The way to the library\"])\n",
    "df_sent = pd.DataFrame(aa)\n",
    "df_sent"
   ]
  },
  {
   "cell_type": "code",
   "execution_count": 33,
   "metadata": {},
   "outputs": [],
   "source": [
    "# Use tokenize function to ignore too long \n",
    "# Define stopwords and punctuation\n",
    "#stop_words = set(stopwords.words('english'))\n",
    "#punctuation = set(string.punctuation)\n",
    "\n",
    "def clean_tokens(text : str) -> List:\n",
    "    \n",
    "    # Tokenize the text\n",
    "    token = word_tokenize(text.lower())\n",
    "    # Remove unwanted punctuation and stop words\n",
    "    # if extra_clean == True:\n",
    "    #    tokens = [word for word in tokens if (word not in punctuation and word not in stop_words)]\n",
    "\n",
    "    return token"
   ]
  },
  {
   "cell_type": "code",
   "execution_count": null,
   "metadata": {},
   "outputs": [],
   "source": [
    "df_data_res['text_tokens'] = df_data_res['text'].apply(lambda x: clean_tokens(x))"
   ]
  },
  {
   "cell_type": "code",
   "execution_count": null,
   "metadata": {},
   "outputs": [],
   "source": [
    "df_data_res['text_tokens_len'] = "
   ]
  },
  {
   "cell_type": "code",
   "execution_count": 37,
   "metadata": {},
   "outputs": [
    {
     "ename": "SyntaxError",
     "evalue": "invalid syntax (3625514453.py, line 2)",
     "output_type": "error",
     "traceback": [
      "\u001b[0;36m  Cell \u001b[0;32mIn[37], line 2\u001b[0;36m\u001b[0m\n\u001b[0;31m    reviews_list = [review in reviews_list if len(clean_tokens(review)) < 512]\u001b[0m\n\u001b[0m                                                                             ^\u001b[0m\n\u001b[0;31mSyntaxError\u001b[0m\u001b[0;31m:\u001b[0m invalid syntax\n"
     ]
    }
   ],
   "source": [
    "reviews_list = df_data_res['text'].to_list()\n",
    "reviews_list = [review in reviews_list if len(clean_tokens(review)) < 512]\n",
    "#df_sentiment = pd.DataFrame(sent_pipe(reviews_list))\n",
    "# Apply "
   ]
  },
  {
   "cell_type": "code",
   "execution_count": null,
   "metadata": {},
   "outputs": [],
   "source": []
  }
 ],
 "metadata": {
  "kernelspec": {
   "display_name": "venv",
   "language": "python",
   "name": "venv"
  },
  "language_info": {
   "codemirror_mode": {
    "name": "ipython",
    "version": 3
   },
   "file_extension": ".py",
   "mimetype": "text/x-python",
   "name": "python",
   "nbconvert_exporter": "python",
   "pygments_lexer": "ipython3",
   "version": "3.8.10"
  }
 },
 "nbformat": 4,
 "nbformat_minor": 4
}
