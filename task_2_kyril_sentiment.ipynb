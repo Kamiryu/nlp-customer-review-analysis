{
 "cells": [
  {
   "cell_type": "code",
   "execution_count": 4,
   "metadata": {},
   "outputs": [
    {
     "name": "stderr",
     "output_type": "stream",
     "text": [
      "/home/kidou/Documents/UNIGE/ml_reinforcement/Projects/customer/.venv/lib/python3.8/site-packages/tqdm/auto.py:21: TqdmWarning: IProgress not found. Please update jupyter and ipywidgets. See https://ipywidgets.readthedocs.io/en/stable/user_install.html\n",
      "  from .autonotebook import tqdm as notebook_tqdm\n",
      "2024-05-19 16:34:18.233745: I tensorflow/tsl/cuda/cudart_stub.cc:28] Could not find cuda drivers on your machine, GPU will not be used.\n",
      "2024-05-19 16:34:18.840082: I tensorflow/tsl/cuda/cudart_stub.cc:28] Could not find cuda drivers on your machine, GPU will not be used.\n",
      "2024-05-19 16:34:18.843518: I tensorflow/core/platform/cpu_feature_guard.cc:182] This TensorFlow binary is optimized to use available CPU instructions in performance-critical operations.\n",
      "To enable the following instructions: AVX2 FMA, in other operations, rebuild TensorFlow with the appropriate compiler flags.\n",
      "2024-05-19 16:34:20.104394: W tensorflow/compiler/tf2tensorrt/utils/py_utils.cc:38] TF-TRT Warning: Could not find TensorRT\n"
     ]
    }
   ],
   "source": [
    "import pandas as pd\n",
    "# pd.options.mode.chained_assignment = None  # default='warn'\n",
    "import ast as ast\n",
    "import numpy as np\n",
    "from typing import *\n",
    "\n",
    "from task_2_helpers import *\n",
    "from collections import Counter\n",
    "\n",
    "import tensorflow as tf\n",
    "from tensorflow import keras\n",
    "from tensorflow.keras import layers, losses, optimizers\n",
    "from tensorflow.keras import Sequential\n",
    "\n",
    "import nltk\n",
    "from nltk.tokenize import word_tokenize\n",
    "\n",
    "import datasets\n",
    "from transformers import pipeline, AutoTokenizer, AutoModelForSeq2SeqLM\n",
    "from textblob import TextBlob\n",
    "from collections import defaultdict\n",
    "\n",
    "import matplotlib.pyplot as plt\n",
    "\n",
    "# from task2_business_KNN import classify_Kmeans\n"
   ]
  },
  {
   "attachments": {},
   "cell_type": "markdown",
   "metadata": {},
   "source": [
    "### Data Read"
   ]
  },
  {
   "cell_type": "code",
   "execution_count": 3,
   "metadata": {},
   "outputs": [
    {
     "name": "stdout",
     "output_type": "stream",
     "text": [
      "(138210, 11)\n"
     ]
    }
   ],
   "source": [
    "# df_business = pd.read_parquet('data/ATML2024_businesses.parquet')\n",
    "df_business = pd.read_csv('data/ATML2024_businesses.csv', header=0)\n",
    "print(df_business.shape)\n",
    "# df_Train_reviews = pd.read_parquet('data/ATML2024_reviews_train.parquet')\n",
    "df_Train_reviews = pd.read_csv('data/ATML2024_reviews_train.csv', header=0)\n",
    "\n",
    "# # df_users = pd.read_parquet('data/ATML2024_users.parquet')\n",
    "# df_users = pd.read_csv('data/ATML2024_users.csv', header=0, nrows=100)"
   ]
  },
  {
   "cell_type": "code",
   "execution_count": 4,
   "metadata": {},
   "outputs": [
    {
     "data": {
      "text/plain": [
       "postal_code\n",
       "False    138145\n",
       "True         65\n",
       "Name: count, dtype: int64"
      ]
     },
     "execution_count": 4,
     "metadata": {},
     "output_type": "execute_result"
    }
   ],
   "source": [
    "df_business.postal_code.isna().value_counts()"
   ]
  },
  {
   "cell_type": "code",
   "execution_count": 5,
   "metadata": {},
   "outputs": [
    {
     "name": "stdout",
     "output_type": "stream",
     "text": [
      "19707\n"
     ]
    }
   ],
   "source": [
    "zipCodes = dict(df_business.postal_code.value_counts())\n",
    "\n",
    "val_count = 0\n",
    "for z in zipCodes.keys():\n",
    "    try:\n",
    "        zcode = int(z)\n",
    "        if zcode >= 19019 and  zcode <= 19255: ### Philadelphia zip codes\n",
    "            val_count += zipCodes[str(z)]\n",
    "    except:\n",
    "        continue\n",
    "\n",
    "print(val_count)"
   ]
  },
  {
   "cell_type": "code",
   "execution_count": 6,
   "metadata": {},
   "outputs": [
    {
     "name": "stdout",
     "output_type": "stream",
     "text": [
      "(13617, 11)\n"
     ]
    }
   ],
   "source": [
    "bussiness_city = ['Phila','Philadelphia', 'Philadelphia', 'Philadelphia (Northeast Philly)', 'Philadelphia PA', 'Philadelphila', 'Philadephia', 'Philiadelphia', \n",
    "                  'Philiidelphia', 'Philly', 'Southwest Philadelphia', 'West Philadelphia', 'philadelphia', 'PHILA', 'PHILADELPHIA']\n",
    "print(df_business[df_business['city'].isin(bussiness_city)].shape)\n"
   ]
  },
  {
   "attachments": {},
   "cell_type": "markdown",
   "metadata": {},
   "source": [
    "### Cleanup business data columns"
   ]
  },
  {
   "cell_type": "code",
   "execution_count": 7,
   "metadata": {},
   "outputs": [
    {
     "data": {
      "text/html": [
       "<div>\n",
       "<style scoped>\n",
       "    .dataframe tbody tr th:only-of-type {\n",
       "        vertical-align: middle;\n",
       "    }\n",
       "\n",
       "    .dataframe tbody tr th {\n",
       "        vertical-align: top;\n",
       "    }\n",
       "\n",
       "    .dataframe thead th {\n",
       "        text-align: right;\n",
       "    }\n",
       "</style>\n",
       "<table border=\"1\" class=\"dataframe\">\n",
       "  <thead>\n",
       "    <tr style=\"text-align: right;\">\n",
       "      <th></th>\n",
       "      <th>business_id</th>\n",
       "      <th>name</th>\n",
       "      <th>address</th>\n",
       "      <th>city</th>\n",
       "      <th>state</th>\n",
       "      <th>postal_code</th>\n",
       "      <th>latitude</th>\n",
       "      <th>longitude</th>\n",
       "      <th>attributes</th>\n",
       "      <th>categories</th>\n",
       "      <th>hours</th>\n",
       "      <th>postal_code_int</th>\n",
       "    </tr>\n",
       "  </thead>\n",
       "  <tbody>\n",
       "    <tr>\n",
       "      <th>0</th>\n",
       "      <td>wPYArZCy3AETdTjB-x3fpm</td>\n",
       "      <td>The UPS Store</td>\n",
       "      <td>87 Grasso Plaza Shopping Center</td>\n",
       "      <td>Affton</td>\n",
       "      <td>MO</td>\n",
       "      <td>63123</td>\n",
       "      <td>38.551126</td>\n",
       "      <td>-90.335695</td>\n",
       "      <td>{'BusinessAcceptsCreditCards': 'True'}</td>\n",
       "      <td>Shipping Centers, Local Services, Notaries, Ma...</td>\n",
       "      <td>{'Monday': '0:0-0:0', 'Tuesday': '8:0-18:30', ...</td>\n",
       "      <td>63123.0</td>\n",
       "    </tr>\n",
       "    <tr>\n",
       "      <th>1</th>\n",
       "      <td>QQNIWVsnAT_iKiKriWrFUt</td>\n",
       "      <td>Target</td>\n",
       "      <td>5255 E Broadway Blvd</td>\n",
       "      <td>Tucson</td>\n",
       "      <td>AZ</td>\n",
       "      <td>85711</td>\n",
       "      <td>32.223236</td>\n",
       "      <td>-110.880452</td>\n",
       "      <td>{'BikeParking': 'True', 'BusinessAcceptsCredit...</td>\n",
       "      <td>Department Stores, Shopping, Fashion, Home &amp; G...</td>\n",
       "      <td>{'Monday': '8:0-22:0', 'Tuesday': '8:0-22:0', ...</td>\n",
       "      <td>85711.0</td>\n",
       "    </tr>\n",
       "    <tr>\n",
       "      <th>2</th>\n",
       "      <td>wm9eoqjytVbC7dQcM4WSTM</td>\n",
       "      <td>St Honore Pastries</td>\n",
       "      <td>935 Race St</td>\n",
       "      <td>Philadelphia</td>\n",
       "      <td>PA</td>\n",
       "      <td>19107</td>\n",
       "      <td>39.955505</td>\n",
       "      <td>-75.155564</td>\n",
       "      <td>{'RestaurantsDelivery': 'False', 'OutdoorSeati...</td>\n",
       "      <td>Restaurants, Food, Bubble Tea, Coffee &amp; Tea, B...</td>\n",
       "      <td>{'Monday': '7:0-20:0', 'Tuesday': '7:0-20:0', ...</td>\n",
       "      <td>19107.0</td>\n",
       "    </tr>\n",
       "    <tr>\n",
       "      <th>3</th>\n",
       "      <td>AfVDXGIKBUE0EdTw_6cMWm</td>\n",
       "      <td>Perkiomen Valley Brewery</td>\n",
       "      <td>101 Walnut St</td>\n",
       "      <td>Green Lane</td>\n",
       "      <td>PA</td>\n",
       "      <td>18054</td>\n",
       "      <td>40.338183</td>\n",
       "      <td>-75.471659</td>\n",
       "      <td>{'BusinessAcceptsCreditCards': 'True', 'Wheelc...</td>\n",
       "      <td>Brewpubs, Breweries, Food</td>\n",
       "      <td>{'Wednesday': '14:0-22:0', 'Thursday': '16:0-2...</td>\n",
       "      <td>18054.0</td>\n",
       "    </tr>\n",
       "    <tr>\n",
       "      <th>4</th>\n",
       "      <td>QjvanH64QUduo6E-8F33FC</td>\n",
       "      <td>Sonic Drive-In</td>\n",
       "      <td>615 S Main St</td>\n",
       "      <td>Ashland City</td>\n",
       "      <td>TN</td>\n",
       "      <td>37015</td>\n",
       "      <td>36.269593</td>\n",
       "      <td>-87.058943</td>\n",
       "      <td>{'BusinessParking': 'None', 'BusinessAcceptsCr...</td>\n",
       "      <td>Burgers, Fast Food, Sandwiches, Food, Ice Crea...</td>\n",
       "      <td>{'Monday': '0:0-0:0', 'Tuesday': '6:0-22:0', '...</td>\n",
       "      <td>37015.0</td>\n",
       "    </tr>\n",
       "  </tbody>\n",
       "</table>\n",
       "</div>"
      ],
      "text/plain": [
       "              business_id                      name  \\\n",
       "0  wPYArZCy3AETdTjB-x3fpm             The UPS Store   \n",
       "1  QQNIWVsnAT_iKiKriWrFUt                    Target   \n",
       "2  wm9eoqjytVbC7dQcM4WSTM        St Honore Pastries   \n",
       "3  AfVDXGIKBUE0EdTw_6cMWm  Perkiomen Valley Brewery   \n",
       "4  QjvanH64QUduo6E-8F33FC            Sonic Drive-In   \n",
       "\n",
       "                           address          city state postal_code   latitude  \\\n",
       "0  87 Grasso Plaza Shopping Center        Affton    MO       63123  38.551126   \n",
       "1             5255 E Broadway Blvd        Tucson    AZ       85711  32.223236   \n",
       "2                      935 Race St  Philadelphia    PA       19107  39.955505   \n",
       "3                    101 Walnut St    Green Lane    PA       18054  40.338183   \n",
       "4                    615 S Main St  Ashland City    TN       37015  36.269593   \n",
       "\n",
       "    longitude                                         attributes  \\\n",
       "0  -90.335695             {'BusinessAcceptsCreditCards': 'True'}   \n",
       "1 -110.880452  {'BikeParking': 'True', 'BusinessAcceptsCredit...   \n",
       "2  -75.155564  {'RestaurantsDelivery': 'False', 'OutdoorSeati...   \n",
       "3  -75.471659  {'BusinessAcceptsCreditCards': 'True', 'Wheelc...   \n",
       "4  -87.058943  {'BusinessParking': 'None', 'BusinessAcceptsCr...   \n",
       "\n",
       "                                          categories  \\\n",
       "0  Shipping Centers, Local Services, Notaries, Ma...   \n",
       "1  Department Stores, Shopping, Fashion, Home & G...   \n",
       "2  Restaurants, Food, Bubble Tea, Coffee & Tea, B...   \n",
       "3                          Brewpubs, Breweries, Food   \n",
       "4  Burgers, Fast Food, Sandwiches, Food, Ice Crea...   \n",
       "\n",
       "                                               hours  postal_code_int  \n",
       "0  {'Monday': '0:0-0:0', 'Tuesday': '8:0-18:30', ...          63123.0  \n",
       "1  {'Monday': '8:0-22:0', 'Tuesday': '8:0-22:0', ...          85711.0  \n",
       "2  {'Monday': '7:0-20:0', 'Tuesday': '7:0-20:0', ...          19107.0  \n",
       "3  {'Wednesday': '14:0-22:0', 'Thursday': '16:0-2...          18054.0  \n",
       "4  {'Monday': '0:0-0:0', 'Tuesday': '6:0-22:0', '...          37015.0  "
      ]
     },
     "execution_count": 7,
     "metadata": {},
     "output_type": "execute_result"
    }
   ],
   "source": [
    "df_business['postal_code_int'] = pd.to_numeric(df_business['postal_code'], errors='coerce', downcast='integer')\n",
    "df_business.head()"
   ]
  },
  {
   "cell_type": "code",
   "execution_count": 8,
   "metadata": {},
   "outputs": [
    {
     "name": "stdout",
     "output_type": "stream",
     "text": [
      "(19707, 12)\n",
      "(19707, 12)\n",
      "(19707, 12)\n",
      "(19707, 13)\n"
     ]
    }
   ],
   "source": [
    "# Convert dictionary columns to the correct types @@@@ Run only once\n",
    "df_business_ph = df_business.loc[ (df_business['postal_code_int'] >= 19019) & (df_business['postal_code_int'] <= 19255) ].copy()\n",
    "print(df_business_ph.shape)\n",
    "df_business_ph['attributes'] = df_business_ph['attributes'].apply(lambda x: ast.literal_eval(x) if not pd.isna(x) or not pd.isnull(x)  else dict())\n",
    "print(df_business_ph.shape)\n",
    "df_business_ph['hours'] = df_business_ph['hours'].apply(lambda x: ast.literal_eval(x) if not pd.isna(x) or not pd.isnull(x)  else dict())\n",
    "print(df_business_ph.shape)\n",
    "\n",
    "# df_business['weekend'] = df_business['hours'].apply(lambda x: extract_weekend_value(x))\n",
    "df_business_ph['hours_list'] = df_business_ph['hours'].apply(lambda x: extract_hours_value(x))\n",
    "\n",
    "print(df_business_ph.shape)"
   ]
  },
  {
   "cell_type": "code",
   "execution_count": 9,
   "metadata": {},
   "outputs": [],
   "source": [
    "df_business_ph['attributes_list'] = df_business_ph['attributes'].apply(lambda x: sorted(extract_attributes_value(x)))\n",
    "df_business_ph['categories_list'] = df_business_ph['categories'].apply(lambda x: sorted(map(lambda a: a.strip().lower(), x.split(',')) ) if isinstance(x, str) else [x])"
   ]
  },
  {
   "attachments": {},
   "cell_type": "markdown",
   "metadata": {},
   "source": [
    "### Join Business Data With Ratings Data and Conduct Exploratory Data Analysis (EDA)"
   ]
  },
  {
   "cell_type": "code",
   "execution_count": 10,
   "metadata": {},
   "outputs": [
    {
     "name": "stdout",
     "output_type": "stream",
     "text": [
      "(176549, 10)\n"
     ]
    },
    {
     "data": {
      "text/html": [
       "<div>\n",
       "<style scoped>\n",
       "    .dataframe tbody tr th:only-of-type {\n",
       "        vertical-align: middle;\n",
       "    }\n",
       "\n",
       "    .dataframe tbody tr th {\n",
       "        vertical-align: top;\n",
       "    }\n",
       "\n",
       "    .dataframe thead th {\n",
       "        text-align: right;\n",
       "    }\n",
       "</style>\n",
       "<table border=\"1\" class=\"dataframe\">\n",
       "  <thead>\n",
       "    <tr style=\"text-align: right;\">\n",
       "      <th></th>\n",
       "      <th>business_id</th>\n",
       "      <th>postal_code_int</th>\n",
       "      <th>attributes_list</th>\n",
       "      <th>hours_list</th>\n",
       "      <th>categories_list</th>\n",
       "      <th>rating</th>\n",
       "      <th>useful</th>\n",
       "      <th>funny</th>\n",
       "      <th>cool</th>\n",
       "      <th>text</th>\n",
       "    </tr>\n",
       "  </thead>\n",
       "  <tbody>\n",
       "    <tr>\n",
       "      <th>0</th>\n",
       "      <td>wm9eoqjytVbC7dQcM4WSTM</td>\n",
       "      <td>19107.0</td>\n",
       "      <td>[Alcohol, BikeParking, BusinessAcceptsCreditCa...</td>\n",
       "      <td>[[7.0, 20.0], [7.0, 20.0], [7.0, 20.0], [7.0, ...</td>\n",
       "      <td>[bakeries, bubble tea, coffee &amp; tea, food, res...</td>\n",
       "      <td>4</td>\n",
       "      <td>1</td>\n",
       "      <td>0</td>\n",
       "      <td>2</td>\n",
       "      <td>So I don't know how the other review was doubl...</td>\n",
       "    </tr>\n",
       "    <tr>\n",
       "      <th>1</th>\n",
       "      <td>wm9eoqjytVbC7dQcM4WSTM</td>\n",
       "      <td>19107.0</td>\n",
       "      <td>[Alcohol, BikeParking, BusinessAcceptsCreditCa...</td>\n",
       "      <td>[[7.0, 20.0], [7.0, 20.0], [7.0, 20.0], [7.0, ...</td>\n",
       "      <td>[bakeries, bubble tea, coffee &amp; tea, food, res...</td>\n",
       "      <td>5</td>\n",
       "      <td>0</td>\n",
       "      <td>0</td>\n",
       "      <td>0</td>\n",
       "      <td>I love this place..  I love their chunky fried...</td>\n",
       "    </tr>\n",
       "    <tr>\n",
       "      <th>2</th>\n",
       "      <td>wm9eoqjytVbC7dQcM4WSTM</td>\n",
       "      <td>19107.0</td>\n",
       "      <td>[Alcohol, BikeParking, BusinessAcceptsCreditCa...</td>\n",
       "      <td>[[7.0, 20.0], [7.0, 20.0], [7.0, 20.0], [7.0, ...</td>\n",
       "      <td>[bakeries, bubble tea, coffee &amp; tea, food, res...</td>\n",
       "      <td>5</td>\n",
       "      <td>0</td>\n",
       "      <td>0</td>\n",
       "      <td>1</td>\n",
       "      <td>I ordered so many cake from here for our famil...</td>\n",
       "    </tr>\n",
       "    <tr>\n",
       "      <th>3</th>\n",
       "      <td>wm9eoqjytVbC7dQcM4WSTM</td>\n",
       "      <td>19107.0</td>\n",
       "      <td>[Alcohol, BikeParking, BusinessAcceptsCreditCa...</td>\n",
       "      <td>[[7.0, 20.0], [7.0, 20.0], [7.0, 20.0], [7.0, ...</td>\n",
       "      <td>[bakeries, bubble tea, coffee &amp; tea, food, res...</td>\n",
       "      <td>4</td>\n",
       "      <td>0</td>\n",
       "      <td>0</td>\n",
       "      <td>0</td>\n",
       "      <td>Ordered a birthday cake here for the first tim...</td>\n",
       "    </tr>\n",
       "    <tr>\n",
       "      <th>4</th>\n",
       "      <td>wm9eoqjytVbC7dQcM4WSTM</td>\n",
       "      <td>19107.0</td>\n",
       "      <td>[Alcohol, BikeParking, BusinessAcceptsCreditCa...</td>\n",
       "      <td>[[7.0, 20.0], [7.0, 20.0], [7.0, 20.0], [7.0, ...</td>\n",
       "      <td>[bakeries, bubble tea, coffee &amp; tea, food, res...</td>\n",
       "      <td>5</td>\n",
       "      <td>1</td>\n",
       "      <td>0</td>\n",
       "      <td>0</td>\n",
       "      <td>This is my favorite bakery in Chinatown! It's ...</td>\n",
       "    </tr>\n",
       "  </tbody>\n",
       "</table>\n",
       "</div>"
      ],
      "text/plain": [
       "              business_id  postal_code_int  \\\n",
       "0  wm9eoqjytVbC7dQcM4WSTM          19107.0   \n",
       "1  wm9eoqjytVbC7dQcM4WSTM          19107.0   \n",
       "2  wm9eoqjytVbC7dQcM4WSTM          19107.0   \n",
       "3  wm9eoqjytVbC7dQcM4WSTM          19107.0   \n",
       "4  wm9eoqjytVbC7dQcM4WSTM          19107.0   \n",
       "\n",
       "                                     attributes_list  \\\n",
       "0  [Alcohol, BikeParking, BusinessAcceptsCreditCa...   \n",
       "1  [Alcohol, BikeParking, BusinessAcceptsCreditCa...   \n",
       "2  [Alcohol, BikeParking, BusinessAcceptsCreditCa...   \n",
       "3  [Alcohol, BikeParking, BusinessAcceptsCreditCa...   \n",
       "4  [Alcohol, BikeParking, BusinessAcceptsCreditCa...   \n",
       "\n",
       "                                          hours_list  \\\n",
       "0  [[7.0, 20.0], [7.0, 20.0], [7.0, 20.0], [7.0, ...   \n",
       "1  [[7.0, 20.0], [7.0, 20.0], [7.0, 20.0], [7.0, ...   \n",
       "2  [[7.0, 20.0], [7.0, 20.0], [7.0, 20.0], [7.0, ...   \n",
       "3  [[7.0, 20.0], [7.0, 20.0], [7.0, 20.0], [7.0, ...   \n",
       "4  [[7.0, 20.0], [7.0, 20.0], [7.0, 20.0], [7.0, ...   \n",
       "\n",
       "                                     categories_list  rating  useful  funny  \\\n",
       "0  [bakeries, bubble tea, coffee & tea, food, res...       4       1      0   \n",
       "1  [bakeries, bubble tea, coffee & tea, food, res...       5       0      0   \n",
       "2  [bakeries, bubble tea, coffee & tea, food, res...       5       0      0   \n",
       "3  [bakeries, bubble tea, coffee & tea, food, res...       4       0      0   \n",
       "4  [bakeries, bubble tea, coffee & tea, food, res...       5       1      0   \n",
       "\n",
       "   cool                                               text  \n",
       "0     2  So I don't know how the other review was doubl...  \n",
       "1     0  I love this place..  I love their chunky fried...  \n",
       "2     1  I ordered so many cake from here for our famil...  \n",
       "3     0  Ordered a birthday cake here for the first tim...  \n",
       "4     0  This is my favorite bakery in Chinatown! It's ...  "
      ]
     },
     "execution_count": 10,
     "metadata": {},
     "output_type": "execute_result"
    }
   ],
   "source": [
    "df_business_data = df_business_ph[['business_id', 'postal_code_int', 'attributes_list', 'hours_list', 'categories_list']]\n",
    "df_ratings_data = df_Train_reviews[['business_id', 'rating', 'useful', 'funny', 'cool', 'text']]\n",
    "\n",
    "df_data = pd.merge(df_business_data, df_ratings_data, left_on= 'business_id', right_on='business_id')\n",
    "print(df_data.shape)\n",
    "df_data.head()"
   ]
  },
  {
   "cell_type": "code",
   "execution_count": 1,
   "metadata": {},
   "outputs": [
    {
     "ename": "NameError",
     "evalue": "name 'df_data' is not defined",
     "output_type": "error",
     "traceback": [
      "\u001b[0;31m---------------------------------------------------------------------------\u001b[0m",
      "\u001b[0;31mNameError\u001b[0m                                 Traceback (most recent call last)",
      "Cell \u001b[0;32mIn[1], line 1\u001b[0m\n\u001b[0;32m----> 1\u001b[0m \u001b[43mdf_data\u001b[49m\u001b[38;5;241m.\u001b[39mto_parquet(\u001b[38;5;124m'\u001b[39m\u001b[38;5;124mdata/ATML2024_Task2_PhiliBussRatings.parquet\u001b[39m\u001b[38;5;124m'\u001b[39m)\n",
      "\u001b[0;31mNameError\u001b[0m: name 'df_data' is not defined"
     ]
    }
   ],
   "source": [
    "df_data.to_parquet('data/ATML2024_Task2_PhiliBussRatings.parquet')"
   ]
  },
  {
   "attachments": {},
   "cell_type": "markdown",
   "metadata": {},
   "source": [
    "### Explanatory Data Analysis"
   ]
  },
  {
   "cell_type": "code",
   "execution_count": 5,
   "metadata": {},
   "outputs": [
    {
     "name": "stdout",
     "output_type": "stream",
     "text": [
      "(176549, 12)\n"
     ]
    },
    {
     "data": {
      "text/plain": [
       "(123414, 12)"
      ]
     },
     "execution_count": 5,
     "metadata": {},
     "output_type": "execute_result"
    }
   ],
   "source": [
    "df_data = pd.read_parquet('data/ATML2024_Task2_PhiliBussRatings.parquet', engine='pyarrow')\n",
    "print(df_data.shape)\n",
    "\n",
    "df_data_res = df_data[df_data['categories_list'].apply(lambda x: any('restaurants' in str(a).lower() for a in x)\n",
    "                       or any('restaurant' in str(a).lower() for a in x))]\n",
    "df_data_res.shape\n"
   ]
  },
  {
   "cell_type": "code",
   "execution_count": 6,
   "metadata": {},
   "outputs": [],
   "source": [
    "# all_uniq_cat = set(np.concatenate(df_data.categories_list.values).ravel()) #df_data.categories_list.values.flatten()\n",
    "# all_uniq_attr = set(np.concatenate(df_data.attributes_list.values).ravel()) #df_data.categories_list.values.flatten()"
   ]
  },
  {
   "cell_type": "markdown",
   "metadata": {},
   "source": [
    "#### 2.0 Find out which one of the categories are related to restaurant services\n",
    "\n",
    "Before deal with the reviews and treds in them, we need to identify which one of the businesses are actually in the restaurant and related area."
   ]
  },
  {
   "cell_type": "code",
   "execution_count": 7,
   "metadata": {},
   "outputs": [
    {
     "name": "stdout",
     "output_type": "stream",
     "text": [
      "Total number of distinct categories of business: 1081\n",
      "The most frequest categories : [('restaurants', 123410), ('food', 47310), ('nightlife', 40206), ('bars', 38164), ('american (new)', 26829), ('breakfast & brunch', 22358), ('american (traditional)', 21800), ('sandwiches', 19789), ('italian', 15313), ('coffee & tea', 14008)]\n",
      "(123414, 12)\n"
     ]
    }
   ],
   "source": [
    "business_cat = np.concatenate(df_data.categories_list.values).ravel()\n",
    "c = Counter(business_cat)\n",
    "\n",
    "print(f'Total number of distinct categories of business: {len(c)}')\n",
    "\n",
    "print(f'The most frequest categories : {c.most_common(10)}')\n",
    "\n",
    "df_data_res = df_data[df_data['categories_list'].apply(lambda x: any('restaurants' in str(a).lower() for a in x)\n",
    "                       or any('restaurant' in str(a).lower() for a in x))]\n",
    "                                                                \n",
    "print(df_data_res.shape)                                                    "
   ]
  },
  {
   "cell_type": "markdown",
   "metadata": {},
   "source": [
    "### 2.2 What is the food trend of Philadelphia"
   ]
  },
  {
   "cell_type": "code",
   "execution_count": null,
   "metadata": {},
   "outputs": [],
   "source": []
  },
  {
   "cell_type": "code",
   "execution_count": 8,
   "metadata": {},
   "outputs": [],
   "source": [
    "# rating_1_cat = set(np.concatenate(df_data[df_data.rating == 1].categories_list.values).ravel())\n",
    "# rating_2_cat = set(np.concatenate(df_data[df_data.rating == 2].categories_list.values).ravel())\n",
    "# rating_3_cat = set(np.concatenate(df_data[df_data.rating == 3].categories_list.values).ravel())\n",
    "# rating_4_cat = set(np.concatenate(df_data[df_data.rating == 4].categories_list.values).ravel())\n",
    "# rating_5_cat = set(np.concatenate(df_data[df_data.rating == 5].categories_list.values).ravel())"
   ]
  },
  {
   "cell_type": "markdown",
   "metadata": {},
   "source": [
    "#### 2.3 Transformer (Kyril)"
   ]
  },
  {
   "cell_type": "code",
   "execution_count": 7,
   "metadata": {},
   "outputs": [
    {
     "name": "stderr",
     "output_type": "stream",
     "text": [
      "All PyTorch model weights were used when initializing TFDistilBertForSequenceClassification.\n",
      "\n",
      "All the weights of TFDistilBertForSequenceClassification were initialized from the PyTorch model.\n",
      "If your task is similar to the task the model of the checkpoint was trained on, you can already use TFDistilBertForSequenceClassification for predictions without further training.\n"
     ]
    }
   ],
   "source": [
    "sent_pipe = pipeline(\"sentiment-analysis\", # or \"text-classification\"\n",
    "                     model=\"distilbert-base-uncased-finetuned-sst-2-english\")"
   ]
  },
  {
   "cell_type": "code",
   "execution_count": 9,
   "metadata": {},
   "outputs": [],
   "source": [
    "# Use tokenize function to ignore too long \n",
    "# Define stopwords and punctuation\n",
    "\n",
    "#stop_words = set(stopwords.words('english'))\n",
    "#punctuation = set(string.punctuation)\n",
    "\n",
    "def clean_tokens(text : str) -> List:\n",
    "    \n",
    "    # Tokenize the text\n",
    "    token = word_tokenize(text.lower())\n",
    "    \n",
    "    # Remove unwanted punctuation and stop words\n",
    "    # if extra_clean == True:\n",
    "    #    tokens = [word for word in tokens if (word not in punctuation and word not in stop_words)]\n",
    "\n",
    "    return token"
   ]
  },
  {
   "cell_type": "code",
   "execution_count": 10,
   "metadata": {},
   "outputs": [
    {
     "name": "stderr",
     "output_type": "stream",
     "text": [
      "/tmp/ipykernel_14350/792970574.py:1: SettingWithCopyWarning: \n",
      "A value is trying to be set on a copy of a slice from a DataFrame.\n",
      "Try using .loc[row_indexer,col_indexer] = value instead\n",
      "\n",
      "See the caveats in the documentation: https://pandas.pydata.org/pandas-docs/stable/user_guide/indexing.html#returning-a-view-versus-a-copy\n",
      "  df_data_res['text_tokens']  = df_data_res['text'].apply(clean_tokens)\n",
      "/tmp/ipykernel_14350/792970574.py:2: SettingWithCopyWarning: \n",
      "A value is trying to be set on a copy of a slice from a DataFrame.\n",
      "Try using .loc[row_indexer,col_indexer] = value instead\n",
      "\n",
      "See the caveats in the documentation: https://pandas.pydata.org/pandas-docs/stable/user_guide/indexing.html#returning-a-view-versus-a-copy\n",
      "  df_data_res['tokens_count'] = df_data_res['text_tokens'].apply(len)\n"
     ]
    }
   ],
   "source": [
    "df_data_res['text_tokens']  = df_data_res['text'].apply(clean_tokens)\n",
    "df_data_res['tokens_count'] = df_data_res['text_tokens'].apply(len)"
   ]
  },
  {
   "cell_type": "code",
   "execution_count": 2,
   "metadata": {},
   "outputs": [
    {
     "ename": "NameError",
     "evalue": "name 'df_data_res' is not defined",
     "output_type": "error",
     "traceback": [
      "\u001b[0;31m---------------------------------------------------------------------------\u001b[0m",
      "\u001b[0;31mNameError\u001b[0m                                 Traceback (most recent call last)",
      "Cell \u001b[0;32mIn[2], line 1\u001b[0m\n\u001b[0;32m----> 1\u001b[0m \u001b[43mdf_data_res\u001b[49m\u001b[38;5;241m.\u001b[39mto_parquet(\u001b[38;5;124m'\u001b[39m\u001b[38;5;124mdata/ATML2024_Task2_PhiliResRatings.parquet\u001b[39m\u001b[38;5;124m'\u001b[39m)\n",
      "\u001b[0;31mNameError\u001b[0m: name 'df_data_res' is not defined"
     ]
    }
   ],
   "source": [
    "df_data_res.to_parquet('data/ATML2024_Task2_PhiliResRatings.parquet')"
   ]
  },
  {
   "cell_type": "markdown",
   "metadata": {},
   "source": [
    "Milestone "
   ]
  },
  {
   "cell_type": "code",
   "execution_count": 9,
   "metadata": {},
   "outputs": [
    {
     "name": "stdout",
     "output_type": "stream",
     "text": [
      "(123414, 12)\n"
     ]
    }
   ],
   "source": [
    "df_data_res = pd.read_parquet('data/ATML2024_Task2_PhiliResRatings.parquet', engine='pyarrow')\n",
    "print(df_data_res.shape)"
   ]
  },
  {
   "cell_type": "code",
   "execution_count": 13,
   "metadata": {},
   "outputs": [],
   "source": [
    "df_res_short = df_data_res[df_data_res['tokens_count'] < 256]"
   ]
  },
  {
   "cell_type": "markdown",
   "metadata": {},
   "source": [
    "It is possible to reduce the size of the too big reviews using a text2text pretrained model. \n",
    "Exemple bellow uses pytorch"
   ]
  },
  {
   "cell_type": "code",
   "execution_count": 14,
   "metadata": {},
   "outputs": [
    {
     "name": "stdout",
     "output_type": "stream",
     "text": [
      "Error : No module named 'torch'\n"
     ]
    }
   ],
   "source": [
    "\"\"\"Generate smaller text from bigger text using transformer tokenizer\"\"\"\n",
    "\n",
    "try: \n",
    "    import torch \n",
    "    \n",
    "    model_name = \"allenai/led-large-16384-arxiv\"\n",
    "    tokenizer = AutoTokenizer.from_pretrained(model_name)\n",
    "    model = AutoModelForSeq2SeqLM.from_pretrained(model_name)\n",
    "    \n",
    "    pipe = pipeline(\"text2text-generation\", model=model, tokenizer=tokenizer, device=0)\n",
    "\n",
    "    # apply below function to all reviews \n",
    "    def generate_smaller_text(text : str, length : int = 64) -> str:\n",
    "        generated_text = pipe(\n",
    "            text, \n",
    "            truncation=True, \n",
    "            max_length=length, \n",
    "            no_repeat_ngram_size=5, \n",
    "            num_beams=3, \n",
    "            early_stopping=True\n",
    "        )\n",
    "\n",
    "except ImportError as e:\n",
    "    print(\"Error : {}\".format(e))\n",
    "    "
   ]
  },
  {
   "cell_type": "code",
   "execution_count": 18,
   "metadata": {},
   "outputs": [],
   "source": [
    "review_list = df_res_short['text'].to_list()\n",
    "# sentiments = sent_pipe(review_list)\n",
    "df_sentiments = pd.DataFrame(sentiments)\n",
    "df_sentiments.rename(columns={'label':'sentiment', 'score':'sent_score'}, inplace=True)"
   ]
  },
  {
   "cell_type": "markdown",
   "metadata": {},
   "source": [
    "#### 2.4 Sentiment Analysis"
   ]
  },
  {
   "cell_type": "code",
   "execution_count": 10,
   "metadata": {},
   "outputs": [],
   "source": [
    "# Function to calculate sentiment score from pretrained models\n",
    "def get_sentiment(text):\n",
    "    return TextBlob(text).sentiment.polarity"
   ]
  },
  {
   "cell_type": "code",
   "execution_count": 11,
   "metadata": {},
   "outputs": [],
   "source": [
    "# Calculate sentiment for each review\n",
    "df_data_res['sentiment'] = df_data_res['text'].apply(get_sentiment)"
   ]
  },
  {
   "cell_type": "code",
   "execution_count": 97,
   "metadata": {},
   "outputs": [],
   "source": [
    "# Initialize dictionaries to store ratings and sentiments for each attribute\n",
    "attribute_ratings = defaultdict(list)\n",
    "attribute_sentiments = defaultdict(list)\n",
    "\n",
    "# Populate the dictionaries\n",
    "for index, row in df_data_res.iterrows():\n",
    "    for attribute in row['attributes_list']:\n",
    "        attribute_ratings[attribute].append(row['rating'])\n",
    "        attribute_sentiments[attribute].append(row['sentiment'])\n",
    "\n",
    "# Remove the last quantile of sentiments and \n",
    "n_cut = 10\n",
    "attribute_ratings_sub = dict(sorted(attribute_ratings.items(), key=lambda x:len(x[1]), reverse=True)[:n_cut])\n",
    "attribute_sentiments_sub = dict(sorted(attribute_sentiments.items(), key=lambda x:len(x[1]), reverse=True)[:n_cut])\n",
    "\n",
    "# Calculate the mean rating and mean sentiment for each attribute\n",
    "attribute_mean_ratings_sub = {attr: sum(ratings) / len(ratings) for attr, ratings in attribute_ratings_sub.items()}\n",
    "attribute_mean_sentiments_sub = {attr: sum(sentiments) / len(sentiments) for attr, sentiments in attribute_sentiments_sub.items()}"
   ]
  },
  {
   "cell_type": "code",
   "execution_count": 99,
   "metadata": {},
   "outputs": [
    {
     "data": {
      "image/png": "[encoded data removed]",
      "text/plain": [
       "<Figure size 640x480 with 1 Axes>"
      ]
     },
     "metadata": {},
     "output_type": "display_data"
    },
    {
     "data": {
      "image/png": "[encoded data removed]",
      "text/plain": [
       "<Figure size 640x480 with 1 Axes>"
      ]
     },
     "metadata": {},
     "output_type": "display_data"
    }
   ],
   "source": [
    "# Box plot \n",
    "plt.bar(range(1, len(attribute_mean_ratings_sub) + 1), list(attribute_mean_ratings_sub.values()),  align='edge', width=0.7)\n",
    "plt.xticks(range(1, len(attribute_mean_ratings_sub) + 1), attribute_mean_ratings_sub.keys(),rotation=90)\n",
    "plt.show()\n",
    "\n",
    "plt.bar(range(1, len(attribute_mean_sentiments_sub ) + 1), list(attribute_mean_sentiments_sub.values()),  align='edge', width=0.7)\n",
    "plt.xticks(range(1, len(attribute_mean_sentiments_sub ) + 1), attribute_mean_sentiments_sub .keys(),rotation=90)\n",
    "plt.show()"
   ]
  },
  {
   "cell_type": "markdown",
   "metadata": {},
   "source": [
    "#### 2.5 Aspect based sentiment Analysis "
   ]
  },
  {
   "cell_type": "code",
   "execution_count": null,
   "metadata": {},
   "outputs": [],
   "source": []
  }
 ],
 "metadata": {
  "kernelspec": {
   "display_name": "venv",
   "language": "python",
   "name": "venv"
  },
  "language_info": {
   "codemirror_mode": {
    "name": "ipython",
    "version": 3
   },
   "file_extension": ".py",
   "mimetype": "text/x-python",
   "name": "python",
   "nbconvert_exporter": "python",
   "pygments_lexer": "ipython3",
   "version": "3.8.10"
  }
 },
 "nbformat": 4,
 "nbformat_minor": 4
}
