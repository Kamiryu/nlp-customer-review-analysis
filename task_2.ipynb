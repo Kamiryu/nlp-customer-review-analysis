{
 "cells": [
  {
   "cell_type": "code",
   "execution_count": 2,
   "metadata": {},
   "outputs": [],
   "source": [
    "import pandas as pd\n",
    "import ast as ast\n",
    "import numpy as np\n",
    "from typing import *\n",
    "\n",
    "from task_2_helpers import *"
   ]
  },
  {
   "attachments": {},
   "cell_type": "markdown",
   "metadata": {},
   "source": [
    "### Data Read"
   ]
  },
  {
   "cell_type": "code",
   "execution_count": 6,
   "metadata": {},
   "outputs": [],
   "source": [
    "# df_business = pd.read_parquet('data/ATML2024_businesses.parquet')\n",
    "df_business = pd.read_csv('data/ATML2024_businesses.csv', header=0)\n",
    "\n",
    "# df_Train_reviews = pd.read_parquet('data/ATML2024_reviews_train.parquet')\n",
    "df_Train_reviews = pd.read_csv('data/ATML2024_reviews_train.csv', header=0)\n",
    "\n",
    "# # df_users = pd.read_parquet('data/ATML2024_users.parquet')\n",
    "# df_users = pd.read_csv('data/ATML2024_users.csv', header=0, nrows=100)"
   ]
  },
  {
   "attachments": {},
   "cell_type": "markdown",
   "metadata": {},
   "source": [
    "### Cleanup business data columns"
   ]
  },
  {
   "cell_type": "code",
   "execution_count": 7,
   "metadata": {},
   "outputs": [],
   "source": [
    "# Convert dictionary columns to the correct types @@@@ Run only once\n",
    "df_business = df_business[df_business['city'].isin(bussiness_city)]\n",
    "df_business['attributes'] = df_business['attributes'].apply(lambda x: ast.literal_eval(x) if not pd.isna(x) or not pd.isnull(x)  else dict())\n",
    "df_business['hours'] = df_business['hours'].apply(lambda x: ast.literal_eval(x) if not pd.isna(x) or not pd.isnull(x)  else dict())\n",
    "\n",
    "# df_business['weekend'] = df_business['hours'].apply(lambda x: extract_weekend_value(x))\n",
    "df_business['hours_list'] = df_business['hours'].apply(lambda x: extract_hours_value(x))\n",
    "df_business['attributes_list'] = df_business['attributes'].apply(lambda x: sorted(extract_attributes_value(x)))\n",
    "df_business['categories_list'] = df_business['categories'].apply(lambda x: sorted(map(lambda a: a.strip().lower(),  x.split(',')) ) if isinstance(x, str) else [])\n",
    "\n"
   ]
  },
  {
   "attachments": {},
   "cell_type": "markdown",
   "metadata": {},
   "source": [
    "### Join Business Data With Ratings Data and Conduct Exploratory Data Analysis (EDA)"
   ]
  },
  {
   "cell_type": "code",
   "execution_count": 8,
   "metadata": {},
   "outputs": [
    {
     "data": {
      "text/html": [
       "<div>\n",
       "<style scoped>\n",
       "    .dataframe tbody tr th:only-of-type {\n",
       "        vertical-align: middle;\n",
       "    }\n",
       "\n",
       "    .dataframe tbody tr th {\n",
       "        vertical-align: top;\n",
       "    }\n",
       "\n",
       "    .dataframe thead th {\n",
       "        text-align: right;\n",
       "    }\n",
       "</style>\n",
       "<table border=\"1\" class=\"dataframe\">\n",
       "  <thead>\n",
       "    <tr style=\"text-align: right;\">\n",
       "      <th></th>\n",
       "      <th>business_id</th>\n",
       "      <th>postal_code</th>\n",
       "      <th>attributes_list</th>\n",
       "      <th>hours_list</th>\n",
       "      <th>categories_list</th>\n",
       "      <th>rating</th>\n",
       "      <th>useful</th>\n",
       "      <th>funny</th>\n",
       "      <th>cool</th>\n",
       "      <th>text</th>\n",
       "    </tr>\n",
       "  </thead>\n",
       "  <tbody>\n",
       "    <tr>\n",
       "      <th>0</th>\n",
       "      <td>wm9eoqjytVbC7dQcM4WSTM</td>\n",
       "      <td>19107</td>\n",
       "      <td>[Alcohol, BikeParking, BusinessAcceptsCreditCa...</td>\n",
       "      <td>[[7.0, 20.0], [7.0, 20.0], [7.0, 20.0], [7.0, ...</td>\n",
       "      <td>[bakeries, bubble tea, coffee &amp; tea, food, res...</td>\n",
       "      <td>4</td>\n",
       "      <td>1</td>\n",
       "      <td>0</td>\n",
       "      <td>2</td>\n",
       "      <td>So I don't know how the other review was doubl...</td>\n",
       "    </tr>\n",
       "    <tr>\n",
       "      <th>1</th>\n",
       "      <td>wm9eoqjytVbC7dQcM4WSTM</td>\n",
       "      <td>19107</td>\n",
       "      <td>[Alcohol, BikeParking, BusinessAcceptsCreditCa...</td>\n",
       "      <td>[[7.0, 20.0], [7.0, 20.0], [7.0, 20.0], [7.0, ...</td>\n",
       "      <td>[bakeries, bubble tea, coffee &amp; tea, food, res...</td>\n",
       "      <td>5</td>\n",
       "      <td>0</td>\n",
       "      <td>0</td>\n",
       "      <td>0</td>\n",
       "      <td>I love this place..  I love their chunky fried...</td>\n",
       "    </tr>\n",
       "    <tr>\n",
       "      <th>2</th>\n",
       "      <td>wm9eoqjytVbC7dQcM4WSTM</td>\n",
       "      <td>19107</td>\n",
       "      <td>[Alcohol, BikeParking, BusinessAcceptsCreditCa...</td>\n",
       "      <td>[[7.0, 20.0], [7.0, 20.0], [7.0, 20.0], [7.0, ...</td>\n",
       "      <td>[bakeries, bubble tea, coffee &amp; tea, food, res...</td>\n",
       "      <td>5</td>\n",
       "      <td>0</td>\n",
       "      <td>0</td>\n",
       "      <td>1</td>\n",
       "      <td>I ordered so many cake from here for our famil...</td>\n",
       "    </tr>\n",
       "    <tr>\n",
       "      <th>3</th>\n",
       "      <td>wm9eoqjytVbC7dQcM4WSTM</td>\n",
       "      <td>19107</td>\n",
       "      <td>[Alcohol, BikeParking, BusinessAcceptsCreditCa...</td>\n",
       "      <td>[[7.0, 20.0], [7.0, 20.0], [7.0, 20.0], [7.0, ...</td>\n",
       "      <td>[bakeries, bubble tea, coffee &amp; tea, food, res...</td>\n",
       "      <td>4</td>\n",
       "      <td>0</td>\n",
       "      <td>0</td>\n",
       "      <td>0</td>\n",
       "      <td>Ordered a birthday cake here for the first tim...</td>\n",
       "    </tr>\n",
       "    <tr>\n",
       "      <th>4</th>\n",
       "      <td>wm9eoqjytVbC7dQcM4WSTM</td>\n",
       "      <td>19107</td>\n",
       "      <td>[Alcohol, BikeParking, BusinessAcceptsCreditCa...</td>\n",
       "      <td>[[7.0, 20.0], [7.0, 20.0], [7.0, 20.0], [7.0, ...</td>\n",
       "      <td>[bakeries, bubble tea, coffee &amp; tea, food, res...</td>\n",
       "      <td>5</td>\n",
       "      <td>1</td>\n",
       "      <td>0</td>\n",
       "      <td>0</td>\n",
       "      <td>This is my favorite bakery in Chinatown! It's ...</td>\n",
       "    </tr>\n",
       "    <tr>\n",
       "      <th>...</th>\n",
       "      <td>...</td>\n",
       "      <td>...</td>\n",
       "      <td>...</td>\n",
       "      <td>...</td>\n",
       "      <td>...</td>\n",
       "      <td>...</td>\n",
       "      <td>...</td>\n",
       "      <td>...</td>\n",
       "      <td>...</td>\n",
       "      <td>...</td>\n",
       "    </tr>\n",
       "    <tr>\n",
       "      <th>144869</th>\n",
       "      <td>QaNNUNpPIvqk6LH1QjG4JL</td>\n",
       "      <td>19103</td>\n",
       "      <td>[AcceptsInsurance, BikeParking, BusinessAccept...</td>\n",
       "      <td>[[7.0, 20.0], [7.0, 20.0], [7.0, 20.0], [7.0, ...</td>\n",
       "      <td>[active life, doctors, fitness &amp; instruction, ...</td>\n",
       "      <td>3</td>\n",
       "      <td>0</td>\n",
       "      <td>0</td>\n",
       "      <td>0</td>\n",
       "      <td>I've been to a few studios in the city and I c...</td>\n",
       "    </tr>\n",
       "    <tr>\n",
       "      <th>144870</th>\n",
       "      <td>QscEk0TPjLIlLgQzIN9TnW</td>\n",
       "      <td>19147</td>\n",
       "      <td>[Alcohol, Ambience, BikeParking, BusinessAccep...</td>\n",
       "      <td>[[11.0, 22.0], [11.0, 22.0], [-1, -1], [11.0, ...</td>\n",
       "      <td>[mexican, restaurants]</td>\n",
       "      <td>5</td>\n",
       "      <td>2</td>\n",
       "      <td>1</td>\n",
       "      <td>1</td>\n",
       "      <td>First time trying this restaurant and I had a ...</td>\n",
       "    </tr>\n",
       "    <tr>\n",
       "      <th>144871</th>\n",
       "      <td>QscEk0TPjLIlLgQzIN9TnW</td>\n",
       "      <td>19147</td>\n",
       "      <td>[Alcohol, Ambience, BikeParking, BusinessAccep...</td>\n",
       "      <td>[[11.0, 22.0], [11.0, 22.0], [-1, -1], [11.0, ...</td>\n",
       "      <td>[mexican, restaurants]</td>\n",
       "      <td>5</td>\n",
       "      <td>1</td>\n",
       "      <td>0</td>\n",
       "      <td>0</td>\n",
       "      <td>Amazing food and wonderful service! We got the...</td>\n",
       "    </tr>\n",
       "    <tr>\n",
       "      <th>144872</th>\n",
       "      <td>QscEk0TPjLIlLgQzIN9TnW</td>\n",
       "      <td>19147</td>\n",
       "      <td>[Alcohol, Ambience, BikeParking, BusinessAccep...</td>\n",
       "      <td>[[11.0, 22.0], [11.0, 22.0], [-1, -1], [11.0, ...</td>\n",
       "      <td>[mexican, restaurants]</td>\n",
       "      <td>5</td>\n",
       "      <td>1</td>\n",
       "      <td>0</td>\n",
       "      <td>0</td>\n",
       "      <td>This hidden gem in south philly is why we need...</td>\n",
       "    </tr>\n",
       "    <tr>\n",
       "      <th>144873</th>\n",
       "      <td>QscEk0TPjLIlLgQzIN9TnW</td>\n",
       "      <td>19147</td>\n",
       "      <td>[Alcohol, Ambience, BikeParking, BusinessAccep...</td>\n",
       "      <td>[[11.0, 22.0], [11.0, 22.0], [-1, -1], [11.0, ...</td>\n",
       "      <td>[mexican, restaurants]</td>\n",
       "      <td>5</td>\n",
       "      <td>4</td>\n",
       "      <td>2</td>\n",
       "      <td>1</td>\n",
       "      <td>Love, love, love Adelita's! Wandered\\nIn after...</td>\n",
       "    </tr>\n",
       "  </tbody>\n",
       "</table>\n",
       "</div>"
      ],
      "text/plain": [
       "              business_id postal_code  \\\n",
       "0  wm9eoqjytVbC7dQcM4WSTM       19107   \n",
       "1  wm9eoqjytVbC7dQcM4WSTM       19107   \n",
       "2  wm9eoqjytVbC7dQcM4WSTM       19107   \n",
       "3  wm9eoqjytVbC7dQcM4WSTM       19107   \n",
       "4  wm9eoqjytVbC7dQcM4WSTM       19107   \n",
       "\n",
       "                                          attributes_list  \\\n",
       "0       [Alcohol, BikeParking, BusinessAcceptsCreditCa...   \n",
       "1       [Alcohol, BikeParking, BusinessAcceptsCreditCa...   \n",
       "2       [Alcohol, BikeParking, BusinessAcceptsCreditCa...   \n",
       "3       [Alcohol, BikeParking, BusinessAcceptsCreditCa...   \n",
       "4       [Alcohol, BikeParking, BusinessAcceptsCreditCa...   \n",
       "...                                                   ...   \n",
       "144869  [AcceptsInsurance, BikeParking, BusinessAccept...   \n",
       "144870  [Alcohol, Ambience, BikeParking, BusinessAccep...   \n",
       "144871  [Alcohol, Ambience, BikeParking, BusinessAccep...   \n",
       "144872  [Alcohol, Ambience, BikeParking, BusinessAccep...   \n",
       "144873  [Alcohol, Ambience, BikeParking, BusinessAccep...   \n",
       "\n",
       "                                               hours_list  \\\n",
       "0       [[7.0, 20.0], [7.0, 20.0], [7.0, 20.0], [7.0, ...   \n",
       "1       [[7.0, 20.0], [7.0, 20.0], [7.0, 20.0], [7.0, ...   \n",
       "2       [[7.0, 20.0], [7.0, 20.0], [7.0, 20.0], [7.0, ...   \n",
       "3       [[7.0, 20.0], [7.0, 20.0], [7.0, 20.0], [7.0, ...   \n",
       "4       [[7.0, 20.0], [7.0, 20.0], [7.0, 20.0], [7.0, ...   \n",
       "...                                                   ...   \n",
       "144869  [[7.0, 20.0], [7.0, 20.0], [7.0, 20.0], [7.0, ...   \n",
       "144870  [[11.0, 22.0], [11.0, 22.0], [-1, -1], [11.0, ...   \n",
       "144871  [[11.0, 22.0], [11.0, 22.0], [-1, -1], [11.0, ...   \n",
       "144872  [[11.0, 22.0], [11.0, 22.0], [-1, -1], [11.0, ...   \n",
       "144873  [[11.0, 22.0], [11.0, 22.0], [-1, -1], [11.0, ...   \n",
       "\n",
       "                                          categories_list  rating  useful  \\\n",
       "0       [bakeries, bubble tea, coffee & tea, food, res...       4       1   \n",
       "1       [bakeries, bubble tea, coffee & tea, food, res...       5       0   \n",
       "2       [bakeries, bubble tea, coffee & tea, food, res...       5       0   \n",
       "3       [bakeries, bubble tea, coffee & tea, food, res...       4       0   \n",
       "4       [bakeries, bubble tea, coffee & tea, food, res...       5       1   \n",
       "...                                                   ...     ...     ...   \n",
       "144869  [active life, doctors, fitness & instruction, ...       3       0   \n",
       "144870                             [mexican, restaurants]       5       2   \n",
       "144871                             [mexican, restaurants]       5       1   \n",
       "144872                             [mexican, restaurants]       5       1   \n",
       "144873                             [mexican, restaurants]       5       4   \n",
       "\n",
       "   cool                                               text  \n",
       "0     2  So I don't know how the other review was doubl...  \n",
       "1     0  I love this place..  I love their chunky fried...  \n",
       "2     1  I ordered so many cake from here for our famil...  \n",
       "3     0  Ordered a birthday cake here for the first tim...  \n",
       "4     0  This is my favorite bakery in Chinatown! It's ...  "
      ]
     },
     "execution_count": 8,
     "metadata": {},
     "output_type": "execute_result"
    }
   ],
   "source": [
    "df_business_data = df_business[['business_id', 'postal_code', 'attributes_list', 'hours_list', 'categories_list']]\n",
    "df_ratings_data = df_Train_reviews[['business_id', 'rating', 'useful', 'funny', 'cool', 'text']]\n",
    "\n",
    "df_data = pd.merge(df_business_data, df_ratings_data, left_on= 'business_id', right_on='business_id')\n",
    "df_data.head()"
   ]
  },
  {
   "cell_type": "code",
   "execution_count": 9,
   "metadata": {},
   "outputs": [
    {
     "name": "stdout",
     "output_type": "stream",
     "text": [
      "(145048, 10)\n"
     ]
    }
   ],
   "source": [
    "# df_data.to_parquet('data/ATML2024_Task2_PhiliBussRatings.parquet')\n",
    "# print(df_data.shape)"
   ]
  },
  {
   "cell_type": "markdown",
   "metadata": {},
   "source": [
    "### Explanatory Data Analysis"
   ]
  },
  {
   "cell_type": "code",
   "execution_count": 27,
   "metadata": {},
   "outputs": [
    {
     "name": "stdout",
     "output_type": "stream",
     "text": [
      "(145048, 10)\n"
     ]
    }
   ],
   "source": [
    "df_data = pd.read_parquet('data/ATML2024_Task2_PhiliBussRatings.parquet', engine='pyarrow')\n",
    "print(df_data.shape)"
   ]
  },
  {
   "attachments": {},
   "cell_type": "markdown",
   "metadata": {},
   "source": [
    "### EDA"
   ]
  },
  {
   "cell_type": "code",
   "execution_count": 16,
   "metadata": {},
   "outputs": [],
   "source": [
    "all_categorizes = set(np.concatenate(df_data.categories_list.values).ravel()) #df_data.categories_list.values.flatten()"
   ]
  },
  {
   "cell_type": "code",
   "execution_count": 21,
   "metadata": {},
   "outputs": [],
   "source": [
    "rating_1_cat = set(np.concatenate(df_data[df_data.rating == 1].categories_list.values).ravel())\n",
    "rating_2_cat = set(np.concatenate(df_data[df_data.rating == 2].categories_list.values).ravel())\n",
    "rating_3_cat = set(np.concatenate(df_data[df_data.rating == 3].categories_list.values).ravel())\n",
    "rating_4_cat = set(np.concatenate(df_data[df_data.rating == 4].categories_list.values).ravel())\n",
    "rating_5_cat = set(np.concatenate(df_data[df_data.rating == 5].categories_list.values).ravel())"
   ]
  },
  {
   "cell_type": "code",
   "execution_count": null,
   "metadata": {},
   "outputs": [],
   "source": [
    "x = 2"
   ]
  }
 ],
 "metadata": {
  "kernelspec": {
   "display_name": "Python 3",
   "language": "python",
   "name": "python3"
  },
  "language_info": {
   "codemirror_mode": {
    "name": "ipython",
    "version": 3
   },
   "file_extension": ".py",
   "mimetype": "text/x-python",
   "name": "python",
   "nbconvert_exporter": "python",
   "pygments_lexer": "ipython3",
   "version": "3.10.4"
  },
  "vscode": {
   "interpreter": {
    "hash": "c01d8bd47244e2a2c195f76d3519bdb420d6fcf7262f1f8054f33e5cbf751f76"
   }
  }
 },
 "nbformat": 4,
 "nbformat_minor": 2
}
