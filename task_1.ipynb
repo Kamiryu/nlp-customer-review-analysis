{
 "cells": [
  {
   "cell_type": "markdown",
   "metadata": {},
   "source": [
    "# 1) Setup\n",
    "## Modules"
   ]
  },
  {
   "cell_type": "code",
   "execution_count": 30,
   "metadata": {},
   "outputs": [],
   "source": [
    "# Libraries\n",
    "import pandas as pd\n",
    "import pyarrow.parquet as pq"
   ]
  },
  {
   "cell_type": "markdown",
   "metadata": {},
   "source": [
    "## Data"
   ]
  },
  {
   "cell_type": "code",
   "execution_count": 35,
   "metadata": {},
   "outputs": [],
   "source": [
    "# Import data (Parquet / Fabien?)\n",
    "data_business = pq.read_table('data/ATML2024_businesses.parquet')\n",
    "df_business = data_business.to_pandas()\n",
    "\n",
    "data_Train_reviews = pq.read_table('data/ATML2024_reviews_train.parquet')\n",
    "df_Train_reviews = data_Train_reviews.to_pandas()\n",
    "\n",
    "data_users = pq.read_table('data/ATML2024_users.parquet')\n",
    "df_users = data_users.to_pandas()"
   ]
  },
  {
   "cell_type": "code",
   "execution_count": 40,
   "metadata": {},
   "outputs": [
    {
     "name": "stdout",
     "output_type": "stream",
     "text": [
      "Dataset Schema:\n",
      "user_id: string\n",
      "name: string\n",
      "user_since: string\n",
      "useful: double\n",
      "funny: double\n",
      "cool: double\n",
      "premium_account: string\n",
      "friends: double\n",
      "fans: double\n",
      "compliment_hot: double\n",
      "compliment_more: double\n",
      "compliment_profile: double\n",
      "compliment_cute: double\n",
      "compliment_list: double\n",
      "compliment_note: double\n",
      "compliment_plain: double\n",
      "compliment_cool: double\n",
      "compliment_funny: double\n",
      "compliment_writer: double\n",
      "-- schema metadata --\n",
      "pandas: '{\"index_columns\": [{\"kind\": \"range\", \"name\": null, \"start\": 0, \"' + 2615\n",
      "\n",
      "Summary Statistics:\n",
      "              useful          funny           cool        friends  \\\n",
      "count  747468.000000  747468.000000  747468.000000  747468.000000   \n",
      "mean       74.840044      31.100846      45.027212      61.342055   \n",
      "std       965.774055     605.662158     849.247796     178.325034   \n",
      "min         0.000000       0.000000       0.000000       0.000000   \n",
      "25%         1.000000       0.000000       0.000000       0.000000   \n",
      "50%         5.000000       1.000000       1.000000       3.000000   \n",
      "75%        21.000000       4.000000       5.000000      56.000000   \n",
      "max    206296.000000  185823.000000  199878.000000   14995.000000   \n",
      "\n",
      "                fans  compliment_hot  compliment_more  compliment_profile  \\\n",
      "count  747468.000000   747468.000000    747468.000000       747468.000000   \n",
      "mean        2.528844        3.388153         0.527842            0.350840   \n",
      "std        27.658841      107.391836        19.975968           23.747047   \n",
      "min         0.000000        0.000000         0.000000            0.000000   \n",
      "25%         0.000000        0.000000         0.000000            0.000000   \n",
      "50%         0.000000        0.000000         0.000000            0.000000   \n",
      "75%         1.000000        0.000000         0.000000            0.000000   \n",
      "max     12497.000000    25784.000000     13501.000000        14180.000000   \n",
      "\n",
      "       compliment_cute  compliment_list  compliment_note  compliment_plain  \\\n",
      "count     747468.00000    747468.000000    747468.000000     747468.000000   \n",
      "mean           0.24852         0.130927         2.688904          5.711291   \n",
      "std           18.05827        16.143172        94.760818        176.622435   \n",
      "min            0.00000         0.000000         0.000000          0.000000   \n",
      "25%            0.00000         0.000000         0.000000          0.000000   \n",
      "50%            0.00000         0.000000         0.000000          0.000000   \n",
      "75%            0.00000         0.000000         0.000000          0.000000   \n",
      "max        13654.00000     12669.000000     59031.000000     101097.000000   \n",
      "\n",
      "       compliment_cool  compliment_funny  compliment_writer  \n",
      "count    747468.000000     747468.000000      747468.000000  \n",
      "mean          5.290550          5.290550           1.992893  \n",
      "std         137.359405        137.359405          47.156571  \n",
      "min           0.000000          0.000000           0.000000  \n",
      "25%           0.000000          0.000000           0.000000  \n",
      "50%           0.000000          0.000000           0.000000  \n",
      "75%           0.000000          0.000000           0.000000  \n",
      "max       49967.000000      49967.000000       15934.000000  \n",
      "Dataset Schema:\n",
      "id: int64\n",
      "user_id: string\n",
      "business_id: string\n",
      "rating: int64\n",
      "useful: int64\n",
      "funny: int64\n",
      "cool: int64\n",
      "text: string\n",
      "date: string\n",
      "-- schema metadata --\n",
      "pandas: '{\"index_columns\": [{\"kind\": \"range\", \"name\": null, \"start\": 0, \"' + 1248\n",
      "\n",
      "Summary Statistics:\n",
      "                 id        rating        useful         funny          cool\n",
      "count  1.050000e+06  1.050000e+06  1.050000e+06  1.050000e+06  1.050000e+06\n",
      "mean   5.249995e+05  3.746190e+00  1.183533e+00  3.266943e-01  4.975705e-01\n",
      "std    3.031090e+05  1.479862e+00  3.298671e+00  1.671890e+00  2.192185e+00\n",
      "min    0.000000e+00  1.000000e+00 -1.000000e+00  0.000000e+00  0.000000e+00\n",
      "25%    2.624998e+05  3.000000e+00  0.000000e+00  0.000000e+00  0.000000e+00\n",
      "50%    5.249995e+05  4.000000e+00  0.000000e+00  0.000000e+00  0.000000e+00\n",
      "75%    7.874992e+05  5.000000e+00  1.000000e+00  0.000000e+00  0.000000e+00\n",
      "max    1.049999e+06  5.000000e+00  9.330000e+02  3.750000e+02  3.760000e+02\n",
      "Dataset Schema:\n",
      "business_id: string\n",
      "name: string\n",
      "address: string\n",
      "city: string\n",
      "state: string\n",
      "postal_code: string\n",
      "latitude: double\n",
      "longitude: double\n",
      "attributes: string\n",
      "categories: string\n",
      "hours: string\n",
      "-- schema metadata --\n",
      "pandas: '{\"index_columns\": [{\"kind\": \"range\", \"name\": null, \"start\": 0, \"' + 1534\n",
      "\n",
      "Summary Statistics:\n",
      "            latitude      longitude\n",
      "count  138210.000000  138210.000000\n",
      "mean       36.648027     -89.363649\n",
      "std         5.841371      14.928374\n",
      "min        27.555127    -120.095137\n",
      "25%        32.187324     -90.355706\n",
      "50%        38.772051     -86.121655\n",
      "75%        39.953487     -75.419145\n",
      "max        53.679197     -73.200457\n"
     ]
    }
   ],
   "source": [
    "# Get a brief view on the data sets\n",
    "\n",
    "# USER DATASET\n",
    "print(\"Dataset Schema:\")\n",
    "print(data_users.schema)\n",
    "print(\"\\nSummary Statistics:\")\n",
    "print(df_users.describe())\n",
    "\n",
    "# REVIEWS DATASET\n",
    "print(\"Dataset Schema:\")\n",
    "print(data_Train_reviews.schema)\n",
    "print(\"\\nSummary Statistics:\")\n",
    "print(df_Train_reviews.describe())\n",
    "\n",
    "# BUSINESS DATASET\n",
    "print(\"Dataset Schema:\")\n",
    "print(data_business.schema)\n",
    "print(\"\\nSummary Statistics:\")\n",
    "print(df_business.describe())"
   ]
  },
  {
   "cell_type": "markdown",
   "metadata": {},
   "source": [
    "### Transform data\n",
    "Possibilities:\n",
    "- Log when data is highly skewed.\n",
    "- Binning of continuous variables.\n",
    "- Simplifying of categories: Trying to aggregate to higher-level categories when it makes sense."
   ]
  },
  {
   "cell_type": "code",
   "execution_count": null,
   "metadata": {},
   "outputs": [],
   "source": []
  },
  {
   "cell_type": "markdown",
   "metadata": {},
   "source": [
    "## Data quality assessment and profiling"
   ]
  },
  {
   "cell_type": "markdown",
   "metadata": {},
   "source": [
    "1. Categorical: \n",
    "\t- count\n",
    "\t- count distinct\n",
    "\t- assess unique values\n",
    "2. Numerical: \n",
    "\t- count\n",
    "\t- min\n",
    "\t- max"
   ]
  },
  {
   "cell_type": "markdown",
   "metadata": {},
   "source": [
    "Do we have missing data ?\n",
    "Are there variables that are numerical but really should be categorical?"
   ]
  },
  {
   "cell_type": "markdown",
   "metadata": {},
   "source": []
  },
  {
   "cell_type": "markdown",
   "metadata": {},
   "source": [
    "# Exploratory Data Analysis"
   ]
  },
  {
   "cell_type": "markdown",
   "metadata": {},
   "source": [
    "## 1. Exploring each individual variable"
   ]
  },
  {
   "cell_type": "markdown",
   "metadata": {},
   "source": [
    "Quantify:\n",
    "\n",
    "- _Location_:\n",
    "\t- mean\n",
    "\t- median\n",
    "\t- mode\n",
    "\t- interquartile mean\n",
    "- _Spread_:\n",
    "\t- standard deviation\n",
    "\t- variance\n",
    "\t- range\n",
    "\t- interquartile range\n",
    "- _Shape_:\n",
    "\t- skewness\n",
    "\t- kurtosis\n",
    "\n",
    "For time series:\n",
    "\tplot summary statistics over time.\n",
    "\n",
    "For panel data:\n",
    "- Plot cross-sectional summary statistics over time\n",
    "- Plot time-series statistics across the population\n",
    "\n",
    "#### Question\n",
    "- What does each field in the data look like?\n",
    "    - Is the distribution skewed? Bimodal?\n",
    "    - Are there outliers? Are they feasible?\n",
    "    - Are there discontinuities?\n",
    "- Are the typical assumptions seen in modeling valid?\n",
    "    - Gaussian\n",
    "    - Identically and independently distributed\n",
    "    - Have one mode\n",
    "    - Can be negative\n",
    "    - Generating processes are stationary and isoptropic (time series)\n",
    "    - Independence between subjects (panel data)"
   ]
  },
  {
   "cell_type": "markdown",
   "metadata": {},
   "source": [
    "## 2. Exploring the relationship between each variable and the target"
   ]
  },
  {
   "cell_type": "markdown",
   "metadata": {},
   "source": [
    "How does each field interact with the target?\n",
    "\n",
    "Assess each relationship’s:\n",
    "- Linearity\n",
    "- Direction\n",
    "- Rough size\n",
    "- Strength\n",
    "Methods:\n",
    "- Bivariate visualizations\n",
    "- Calculate correlation"
   ]
  },
  {
   "cell_type": "markdown",
   "metadata": {},
   "source": [
    "## 3. Assessing interactions between variables"
   ]
  },
  {
   "cell_type": "markdown",
   "metadata": {},
   "source": [
    "How do the variables interact with each other?\n",
    "- Bivariate visualizations\n",
    "- Correlation matrices\n",
    "- Compare summary statistics of variable x for different categories of y\n"
   ]
  },
  {
   "cell_type": "markdown",
   "metadata": {},
   "source": [
    "## 4. Exploring data across many dimensions"
   ]
  },
  {
   "cell_type": "markdown",
   "metadata": {},
   "source": [
    "- Categorical:\n",
    "    - Parallel coordinates\n",
    "- Continuous\n",
    "    - Principal component analysis\n",
    "    - Clustering"
   ]
  }
 ],
 "metadata": {
  "kernelspec": {
   "display_name": "Python 3",
   "language": "python",
   "name": "python3"
  },
  "language_info": {
   "codemirror_mode": {
    "name": "ipython",
    "version": 3
   },
   "file_extension": ".py",
   "mimetype": "text/x-python",
   "name": "python",
   "nbconvert_exporter": "python",
   "pygments_lexer": "ipython3",
   "version": "3.10.6"
  }
 },
 "nbformat": 4,
 "nbformat_minor": 2
}
