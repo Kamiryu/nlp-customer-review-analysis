{
 "cells": [
  {
   "cell_type": "markdown",
   "metadata": {},
   "source": [
    "# 1) Setup\n",
    "## Modules"
   ]
  },
  {
   "cell_type": "code",
   "execution_count": 35,
   "metadata": {},
   "outputs": [],
   "source": [
    "# Libraries\n",
    "import pandas as pd"
   ]
  },
  {
   "cell_type": "markdown",
   "metadata": {},
   "source": [
    "## Data"
   ]
  },
  {
   "cell_type": "code",
   "execution_count": 36,
   "metadata": {},
   "outputs": [],
   "source": [
    "# Import data\n",
    "df_business = pd.read_parquet('data/ATML2024_businesses.parquet')\n",
    "\n",
    "df_Train_reviews = pd.read_parquet('data/ATML2024_reviews_train.parquet')\n",
    "\n",
    "df_users = pd.read_parquet('data/ATML2024_users.parquet')"
   ]
  },
  {
   "cell_type": "code",
   "execution_count": 37,
   "metadata": {},
   "outputs": [
    {
     "name": "stdout",
     "output_type": "stream",
     "text": [
      "                  user_id    name           user_since   useful    funny  \\\n",
      "0  w7IdXgBVXKjZS5UYDO8cVq  Walker  2007-01-25 16:47:26   7217.0   1259.0   \n",
      "1  gJrXd1wa1EZ2-_UoRgW41j  Daniel  2009-01-25 04:35:42  43091.0  13066.0   \n",
      "2  gvz2VtPxToEXh0KFQYXnW2   Steph  2008-07-25 10:41:00   2086.0   1010.0   \n",
      "3  AIdshsLNMm50o7qXSAeDZS    Gwen  2005-11-29 04:38:33    512.0    330.0   \n",
      "4  QGFh-RoJ4HscnnE-yMl5Ah   Karen  2007-01-05 19:40:59     29.0     15.0   \n",
      "\n",
      "      cool                                    premium_account  friends  \\\n",
      "0   5994.0                                               2007  14995.0   \n",
      "1  27281.0  2009,2010,2011,2012,2013,2014,2015,2016,2017,2...   4646.0   \n",
      "2   1003.0                           2009,2010,2011,2012,2013    381.0   \n",
      "3    299.0                                     2009,2010,2011    131.0   \n",
      "4      7.0                                               None     27.0   \n",
      "\n",
      "     fans  compliment_hot  compliment_more  compliment_profile  \\\n",
      "0   267.0           250.0             65.0                55.0   \n",
      "1  3138.0          1145.0            264.0               184.0   \n",
      "2    52.0            89.0             13.0                10.0   \n",
      "3    28.0            24.0              4.0                 1.0   \n",
      "4     1.0             1.0              1.0                 0.0   \n",
      "\n",
      "   compliment_cute  compliment_list  compliment_note  compliment_plain  \\\n",
      "0             56.0             18.0            232.0             844.0   \n",
      "1            157.0            251.0           1847.0            7054.0   \n",
      "2             17.0              3.0             66.0              96.0   \n",
      "3              6.0              2.0             12.0              16.0   \n",
      "4              0.0              0.0              1.0               1.0   \n",
      "\n",
      "   compliment_cool  compliment_funny  compliment_writer  \n",
      "0            467.0             467.0              239.0  \n",
      "1           3131.0            3131.0             1521.0  \n",
      "2            119.0             119.0               35.0  \n",
      "3             26.0              26.0               10.0  \n",
      "4              0.0               0.0                0.0  \n",
      "<class 'pandas.core.frame.DataFrame'>\n",
      "RangeIndex: 747468 entries, 0 to 747467\n",
      "Data columns (total 19 columns):\n",
      " #   Column              Non-Null Count   Dtype  \n",
      "---  ------              --------------   -----  \n",
      " 0   user_id             747468 non-null  object \n",
      " 1   name                747457 non-null  object \n",
      " 2   user_since          747468 non-null  object \n",
      " 3   useful              747468 non-null  float64\n",
      " 4   funny               747468 non-null  float64\n",
      " 5   cool                747468 non-null  float64\n",
      " 6   premium_account     57420 non-null   object \n",
      " 7   friends             747468 non-null  float64\n",
      " 8   fans                747468 non-null  float64\n",
      " 9   compliment_hot      747468 non-null  float64\n",
      " 10  compliment_more     747468 non-null  float64\n",
      " 11  compliment_profile  747468 non-null  float64\n",
      " 12  compliment_cute     747468 non-null  float64\n",
      " 13  compliment_list     747468 non-null  float64\n",
      " 14  compliment_note     747468 non-null  float64\n",
      " 15  compliment_plain    747468 non-null  float64\n",
      " 16  compliment_cool     747468 non-null  float64\n",
      " 17  compliment_funny    747468 non-null  float64\n",
      " 18  compliment_writer   747468 non-null  float64\n",
      "dtypes: float64(15), object(4)\n",
      "memory usage: 108.4+ MB\n"
     ]
    }
   ],
   "source": [
    "# General information on the datasets\n",
    "# USER DATASET\n",
    "print(df_users.head())\n",
    "df_users.info()\n",
    "# List of categorical variables\n",
    "print(df_users.select_dtypes(include=['object', 'category']).columns.tolist())"
   ]
  },
  {
   "cell_type": "code",
   "execution_count": 54,
   "metadata": {},
   "outputs": [
    {
     "name": "stdout",
     "output_type": "stream",
     "text": [
      "   id                 user_id             business_id  rating  useful  funny  \\\n",
      "0   0  gRWsscMiClFGIh2YUjNInT  Ab1ejQzv4eJRLgAlj7tzKT       5       1      0   \n",
      "1   1  Q3RXWVFtLo4I7MC85ELPh7  QkRhOowLAGVZC5gn4RLkjH       5       1      0   \n",
      "2   2  AD2z6qhmVcRJkywa1KsEFG  ADWVkizi8gKjj07mn8NiMe       4       0      0   \n",
      "3   3  A8HQot2boCpoPIThfHV5iy  wkk30dWY49cSiDU3FKg8FH       5       0      1   \n",
      "4   4  Q7UzjD01YnimUOsvAEQ7JK  wUjnssL0bJIEqdqJs8M0GV       5       0      0   \n",
      "\n",
      "   cool                                               text  \\\n",
      "0     0  Sometimes you just want a cup of coffee, in a ...   \n",
      "1     0  Mr. Clyde stopped at our house and asked us if...   \n",
      "2     0  One of my favorite places to grab a quick bit ...   \n",
      "3     0  Wow, this place is huge! Life size aquarium an...   \n",
      "4     0  I ordered 3 large pizzas and  wings for my fam...   \n",
      "\n",
      "                  date  \n",
      "0  2013-12-22 23:45:01  \n",
      "1  2020-02-11 01:00:32  \n",
      "2  2014-05-28 19:05:26  \n",
      "3  2014-01-20 23:42:44  \n",
      "4  2020-01-29 00:20:34  \n",
      "<class 'pandas.core.frame.DataFrame'>\n",
      "RangeIndex: 1050000 entries, 0 to 1049999\n",
      "Data columns (total 9 columns):\n",
      " #   Column       Non-Null Count    Dtype \n",
      "---  ------       --------------    ----- \n",
      " 0   id           1050000 non-null  int64 \n",
      " 1   user_id      1050000 non-null  object\n",
      " 2   business_id  1050000 non-null  object\n",
      " 3   rating       1050000 non-null  int64 \n",
      " 4   useful       1050000 non-null  int64 \n",
      " 5   funny        1050000 non-null  int64 \n",
      " 6   cool         1050000 non-null  int64 \n",
      " 7   text         1050000 non-null  object\n",
      " 8   date         1050000 non-null  object\n",
      "dtypes: int64(5), object(4)\n",
      "memory usage: 72.1+ MB\n",
      "['user_id', 'business_id', 'text', 'date']\n"
     ]
    }
   ],
   "source": [
    "# REVIEWS DATASET\n",
    "print(df_Train_reviews.head())\n",
    "df_Train_reviews.info()\n",
    "# List of categorical variables\n",
    "print(df_Train_reviews.select_dtypes(include=['object', 'category']).columns.tolist())"
   ]
  },
  {
   "cell_type": "code",
   "execution_count": 53,
   "metadata": {},
   "outputs": [
    {
     "name": "stdout",
     "output_type": "stream",
     "text": [
      "              business_id                      name  \\\n",
      "0  wPYArZCy3AETdTjB-x3fpm             The UPS Store   \n",
      "1  QQNIWVsnAT_iKiKriWrFUt                    Target   \n",
      "2  wm9eoqjytVbC7dQcM4WSTM        St Honore Pastries   \n",
      "3  AfVDXGIKBUE0EdTw_6cMWm  Perkiomen Valley Brewery   \n",
      "4  QjvanH64QUduo6E-8F33FC            Sonic Drive-In   \n",
      "\n",
      "                           address          city state postal_code   latitude  \\\n",
      "0  87 Grasso Plaza Shopping Center        Affton    MO       63123  38.551126   \n",
      "1             5255 E Broadway Blvd        Tucson    AZ       85711  32.223236   \n",
      "2                      935 Race St  Philadelphia    PA       19107  39.955505   \n",
      "3                    101 Walnut St    Green Lane    PA       18054  40.338183   \n",
      "4                    615 S Main St  Ashland City    TN       37015  36.269593   \n",
      "\n",
      "    longitude                                         attributes  \\\n",
      "0  -90.335695             {'BusinessAcceptsCreditCards': 'True'}   \n",
      "1 -110.880452  {'BikeParking': 'True', 'BusinessAcceptsCredit...   \n",
      "2  -75.155564  {'RestaurantsDelivery': 'False', 'OutdoorSeati...   \n",
      "3  -75.471659  {'BusinessAcceptsCreditCards': 'True', 'Wheelc...   \n",
      "4  -87.058943  {'BusinessParking': 'None', 'BusinessAcceptsCr...   \n",
      "\n",
      "                                          categories  \\\n",
      "0  Shipping Centers, Local Services, Notaries, Ma...   \n",
      "1  Department Stores, Shopping, Fashion, Home & G...   \n",
      "2  Restaurants, Food, Bubble Tea, Coffee & Tea, B...   \n",
      "3                          Brewpubs, Breweries, Food   \n",
      "4  Burgers, Fast Food, Sandwiches, Food, Ice Crea...   \n",
      "\n",
      "                                               hours  \n",
      "0  {'Monday': '0:0-0:0', 'Tuesday': '8:0-18:30', ...  \n",
      "1  {'Monday': '8:0-22:0', 'Tuesday': '8:0-22:0', ...  \n",
      "2  {'Monday': '7:0-20:0', 'Tuesday': '7:0-20:0', ...  \n",
      "3  {'Wednesday': '14:0-22:0', 'Thursday': '16:0-2...  \n",
      "4  {'Monday': '0:0-0:0', 'Tuesday': '6:0-22:0', '...  \n",
      "<class 'pandas.core.frame.DataFrame'>\n",
      "RangeIndex: 138210 entries, 0 to 138209\n",
      "Data columns (total 11 columns):\n",
      " #   Column       Non-Null Count   Dtype  \n",
      "---  ------       --------------   -----  \n",
      " 0   business_id  138210 non-null  object \n",
      " 1   name         138210 non-null  object \n",
      " 2   address      133772 non-null  object \n",
      " 3   city         138210 non-null  object \n",
      " 4   state        138210 non-null  object \n",
      " 5   postal_code  138145 non-null  object \n",
      " 6   latitude     138210 non-null  float64\n",
      " 7   longitude    138210 non-null  float64\n",
      " 8   attributes   126589 non-null  object \n",
      " 9   categories   138136 non-null  object \n",
      " 10  hours        117852 non-null  object \n",
      "dtypes: float64(2), object(9)\n",
      "memory usage: 11.6+ MB\n",
      "['user_id', 'business_id', 'text', 'date']\n"
     ]
    }
   ],
   "source": [
    "# BUSINESS DATASET\n",
    "print(df_business.head())\n",
    "df_business.info()\n",
    "# List of categorical variables\n",
    "print(df_Train_reviews.select_dtypes(include=['object', 'category']).columns.tolist())"
   ]
  },
  {
   "cell_type": "markdown",
   "metadata": {},
   "source": [
    "## Data quality assessment and profiling\n",
    "1. Categorical: \n",
    "\t- count\n",
    "\t- count distinct\n",
    "\t- assess unique values\n",
    "2. Numerical: \n",
    "\t- count\n",
    "\t- min\n",
    "\t- max\n",
    "\n",
    "\n",
    "Do we have missing data ?\n",
    "Are there variables that are numerical but really should be categorical?"
   ]
  },
  {
   "cell_type": "code",
   "execution_count": 51,
   "metadata": {},
   "outputs": [
    {
     "name": "stdout",
     "output_type": "stream",
     "text": [
      "\n",
      "Business dataset: \n",
      " business_id        0\n",
      "name               0\n",
      "address         4438\n",
      "city               0\n",
      "state              0\n",
      "postal_code       65\n",
      "latitude           0\n",
      "longitude          0\n",
      "attributes     11621\n",
      "categories        74\n",
      "hours          20358\n",
      "dtype: int64\n",
      "\n",
      "Train reviews dataset: \n",
      " id             0\n",
      "user_id        0\n",
      "business_id    0\n",
      "rating         0\n",
      "useful         0\n",
      "funny          0\n",
      "cool           0\n",
      "text           0\n",
      "date           0\n",
      "dtype: int64\n",
      "\n",
      "Users dataset: \n",
      " user_id                    0\n",
      "name                      11\n",
      "user_since                 0\n",
      "useful                     0\n",
      "funny                      0\n",
      "cool                       0\n",
      "premium_account       690048\n",
      "friends                    0\n",
      "fans                       0\n",
      "compliment_hot             0\n",
      "compliment_more            0\n",
      "compliment_profile         0\n",
      "compliment_cute            0\n",
      "compliment_list            0\n",
      "compliment_note            0\n",
      "compliment_plain           0\n",
      "compliment_cool            0\n",
      "compliment_funny           0\n",
      "compliment_writer          0\n",
      "dtype: int64\n",
      "\n",
      "Business: Description\n",
      "             latitude      longitude\n",
      "count  138210.000000  138210.000000\n",
      "mean       36.648027     -89.363649\n",
      "std         5.841371      14.928374\n",
      "min        27.555127    -120.095137\n",
      "25%        32.187324     -90.355706\n",
      "50%        38.772051     -86.121655\n",
      "75%        39.953487     -75.419145\n",
      "max        53.679197     -73.200457\n",
      "\n",
      "Business: Unique values\n",
      " business_id    138210\n",
      "name           105049\n",
      "address        113599\n",
      "city             1361\n",
      "state              27\n",
      "postal_code      3190\n",
      "latitude       125357\n",
      "longitude      122162\n",
      "attributes      83472\n",
      "categories      77833\n",
      "hours           47058\n",
      "dtype: int64\n",
      "\n",
      "Train reviews: Description\n",
      "                  id        rating        useful         funny          cool\n",
      "count  1.050000e+06  1.050000e+06  1.050000e+06  1.050000e+06  1.050000e+06\n",
      "mean   5.249995e+05  3.746190e+00  1.183533e+00  3.266943e-01  4.975705e-01\n",
      "std    3.031090e+05  1.479862e+00  3.298671e+00  1.671890e+00  2.192185e+00\n",
      "min    0.000000e+00  1.000000e+00 -1.000000e+00  0.000000e+00  0.000000e+00\n",
      "25%    2.624998e+05  3.000000e+00  0.000000e+00  0.000000e+00  0.000000e+00\n",
      "50%    5.249995e+05  4.000000e+00  0.000000e+00  0.000000e+00  0.000000e+00\n",
      "75%    7.874992e+05  5.000000e+00  1.000000e+00  0.000000e+00  0.000000e+00\n",
      "max    1.049999e+06  5.000000e+00  9.330000e+02  3.750000e+02  3.760000e+02\n",
      "\n",
      "Train reviews: Unique values\n",
      " <bound method DataFrame.nunique of               id                 user_id             business_id  rating  \\\n",
      "0              0  gRWsscMiClFGIh2YUjNInT  Ab1ejQzv4eJRLgAlj7tzKT       5   \n",
      "1              1  Q3RXWVFtLo4I7MC85ELPh7  QkRhOowLAGVZC5gn4RLkjH       5   \n",
      "2              2  AD2z6qhmVcRJkywa1KsEFG  ADWVkizi8gKjj07mn8NiMe       4   \n",
      "3              3  A8HQot2boCpoPIThfHV5iy  wkk30dWY49cSiDU3FKg8FH       5   \n",
      "4              4  Q7UzjD01YnimUOsvAEQ7JK  wUjnssL0bJIEqdqJs8M0GV       5   \n",
      "...          ...                     ...                     ...     ...   \n",
      "1049995  1049995  wuWm8qMJM6eU-B7WiZJobo  gbfj04aLC7vLi61mmij4Q2       5   \n",
      "1049996  1049996  QQrjXmMK6qvtAPeAngaLR7  wddaPGexLNB5QL3X4ks5ZA       4   \n",
      "1049997  1049997  QrSbHVMVcOimmjIMu-zFRj  QfxnmdNUCMHLvrqxt13uWc       5   \n",
      "1049998  1049998  w8U0yWF50rf_1M8CwKTT3F  wsDuzPq3H2kBTk5_Y7VIyb       4   \n",
      "1049999  1049999  Qfi45rzn6Ejxx3gmJikZ-x  wHJ6jSTjd5-J5Tff-JXyff       1   \n",
      "\n",
      "         useful  funny  cool  \\\n",
      "0             1      0     0   \n",
      "1             1      0     0   \n",
      "2             0      0     0   \n",
      "3             0      1     0   \n",
      "4             0      0     0   \n",
      "...         ...    ...   ...   \n",
      "1049995       0      0     0   \n",
      "1049996       1      0     1   \n",
      "1049997       3      0     1   \n",
      "1049998       0      0     0   \n",
      "1049999      10      0     0   \n",
      "\n",
      "                                                      text  \\\n",
      "0        Sometimes you just want a cup of coffee, in a ...   \n",
      "1        Mr. Clyde stopped at our house and asked us if...   \n",
      "2        One of my favorite places to grab a quick bit ...   \n",
      "3        Wow, this place is huge! Life size aquarium an...   \n",
      "4        I ordered 3 large pizzas and  wings for my fam...   \n",
      "...                                                    ...   \n",
      "1049995  QT is like the Bentley of gas stations, you're...   \n",
      "1049996  The Salmon Dumplings, oh the Salmon Dumplings!...   \n",
      "1049997  So for those who don't know my reviews, I post...   \n",
      "1049998  Fratelli's is a great local Italian spot. When...   \n",
      "1049999  NEVER GET those FREE TRIAL passes. They're a S...   \n",
      "\n",
      "                        date  \n",
      "0        2013-12-22 23:45:01  \n",
      "1        2020-02-11 01:00:32  \n",
      "2        2014-05-28 19:05:26  \n",
      "3        2014-01-20 23:42:44  \n",
      "4        2020-01-29 00:20:34  \n",
      "...                      ...  \n",
      "1049995  2018-05-04 06:55:33  \n",
      "1049996  2015-07-10 04:03:02  \n",
      "1049997  2019-11-10 20:45:30  \n",
      "1049998  2016-10-30 17:36:49  \n",
      "1049999  2017-02-22 15:22:47  \n",
      "\n",
      "[1050000 rows x 9 columns]>\n",
      "\n",
      "User dataset: Description\n",
      "               useful          funny           cool        friends  \\\n",
      "count  747468.000000  747468.000000  747468.000000  747468.000000   \n",
      "mean       74.840044      31.100846      45.027212      61.342055   \n",
      "std       965.774055     605.662158     849.247796     178.325034   \n",
      "min         0.000000       0.000000       0.000000       0.000000   \n",
      "25%         1.000000       0.000000       0.000000       0.000000   \n",
      "50%         5.000000       1.000000       1.000000       3.000000   \n",
      "75%        21.000000       4.000000       5.000000      56.000000   \n",
      "max    206296.000000  185823.000000  199878.000000   14995.000000   \n",
      "\n",
      "                fans  compliment_hot  compliment_more  compliment_profile  \\\n",
      "count  747468.000000   747468.000000    747468.000000       747468.000000   \n",
      "mean        2.528844        3.388153         0.527842            0.350840   \n",
      "std        27.658841      107.391836        19.975968           23.747047   \n",
      "min         0.000000        0.000000         0.000000            0.000000   \n",
      "25%         0.000000        0.000000         0.000000            0.000000   \n",
      "50%         0.000000        0.000000         0.000000            0.000000   \n",
      "75%         1.000000        0.000000         0.000000            0.000000   \n",
      "max     12497.000000    25784.000000     13501.000000        14180.000000   \n",
      "\n",
      "       compliment_cute  compliment_list  compliment_note  compliment_plain  \\\n",
      "count     747468.00000    747468.000000    747468.000000     747468.000000   \n",
      "mean           0.24852         0.130927         2.688904          5.711291   \n",
      "std           18.05827        16.143172        94.760818        176.622435   \n",
      "min            0.00000         0.000000         0.000000          0.000000   \n",
      "25%            0.00000         0.000000         0.000000          0.000000   \n",
      "50%            0.00000         0.000000         0.000000          0.000000   \n",
      "75%            0.00000         0.000000         0.000000          0.000000   \n",
      "max        13654.00000     12669.000000     59031.000000     101097.000000   \n",
      "\n",
      "       compliment_cool  compliment_funny  compliment_writer  \n",
      "count    747468.000000     747468.000000      747468.000000  \n",
      "mean          5.290550          5.290550           1.992893  \n",
      "std         137.359405        137.359405          47.156571  \n",
      "min           0.000000          0.000000           0.000000  \n",
      "25%           0.000000          0.000000           0.000000  \n",
      "50%           0.000000          0.000000           0.000000  \n",
      "75%           0.000000          0.000000           0.000000  \n",
      "max       49967.000000      49967.000000       15934.000000  \n",
      "\n",
      "User dataset: Unique \n",
      " user_id               747468\n",
      "name                   64742\n",
      "user_since            746431\n",
      "useful                  4762\n",
      "funny                   3276\n",
      "cool                    3962\n",
      "premium_account         1107\n",
      "friends                 2341\n",
      "fans                     653\n",
      "compliment_hot          1112\n",
      "compliment_more          316\n",
      "compliment_profile       312\n",
      "compliment_cute          281\n",
      "compliment_list          181\n",
      "compliment_note          894\n",
      "compliment_plain        1446\n",
      "compliment_cool         1390\n",
      "compliment_funny        1390\n",
      "compliment_writer        740\n",
      "dtype: int64\n"
     ]
    }
   ],
   "source": [
    "# Check for missing values\n",
    "print(\"\\nBusiness dataset: \\n\",df_business.isnull().sum())\n",
    "print(\"\\nTrain reviews dataset: \\n\",df_Train_reviews.isnull().sum())\n",
    "print(\"\\nUsers dataset: \\n\",df_users.isnull().sum() )\n",
    "# Remove missing values from the datasets\n",
    "#df_business = df_business.dropna()\n",
    "#df_users = df_users.dropna()\n",
    "\n",
    "# Identify the unique values in each dataset\n",
    "## Business dataset\n",
    "print(\"\\nBusiness: Description\\n\",df_business.describe())\n",
    "print(\"\\nBusiness: Unique values\\n\",df_business.nunique())\n",
    "## Reviews dataset\n",
    "print(\"\\nTrain reviews: Description\\n\",df_Train_reviews.describe())\n",
    "print(\"\\nTrain reviews: Unique values\\n\",df_Train_reviews.nunique)\n",
    "## Users dataset\n",
    "print(\"\\nUser dataset: Description\\n\", df_users.describe())\n",
    "print(\"\\nUser dataset: Unique \\n\", df_users.nunique())\n",
    "\n",
    "# Categorical variables exploration\n",
    "# Numerical variables exploration\n",
    "# Numerical variables exploration\n"
   ]
  },
  {
   "cell_type": "markdown",
   "metadata": {},
   "source": [
    "### Transform data\n",
    "Ideas:\n",
    "- Log when data is highly skewed.\n",
    "- Binning of continuous variables.\n",
    "- Simplifying of categories: Trying to aggregate to higher-level categories when it makes sense."
   ]
  },
  {
   "cell_type": "markdown",
   "metadata": {},
   "source": [
    "# Exploratory Data Analysis"
   ]
  },
  {
   "cell_type": "markdown",
   "metadata": {},
   "source": [
    "## 1. Exploring individual variable"
   ]
  },
  {
   "cell_type": "markdown",
   "metadata": {},
   "source": [
    "Quantify:\n",
    "\n",
    "- _Location_:\n",
    "\t- mean\n",
    "\t- median\n",
    "\t- mode\n",
    "\t- interquartile mean\n",
    "- _Spread_:\n",
    "\t- standard deviation\n",
    "\t- variance\n",
    "\t- range\n",
    "\t- interquartile range\n",
    "- _Shape_:\n",
    "\t- skewness\n",
    "\t- kurtosis\n",
    "\n",
    "For time series:\n",
    "\tplot summary statistics over time.\n",
    "\n",
    "For panel data:\n",
    "- Plot cross-sectional summary statistics over time\n",
    "- Plot time-series statistics across the population\n",
    "\n",
    "#### Question\n",
    "- What does each field in the data look like?\n",
    "    - Is the distribution skewed? Bimodal?\n",
    "    - Are there outliers? Are they feasible?\n",
    "    - Are there discontinuities?\n",
    "- Are the typical assumptions seen in modeling valid?\n",
    "    - Gaussian\n",
    "    - Identically and independently distributed\n",
    "    - Have one mode\n",
    "    - Can be negative\n",
    "    - Generating processes are stationary and isoptropic (time series)\n",
    "    - Independence between subjects (panel data)"
   ]
  },
  {
   "cell_type": "markdown",
   "metadata": {},
   "source": [
    "## 2. Exploring the relationship between each variable and the target"
   ]
  },
  {
   "cell_type": "markdown",
   "metadata": {},
   "source": [
    "How does each field interact with the target?\n",
    "\n",
    "Assess each relationship’s:\n",
    "- Linearity\n",
    "- Direction\n",
    "- Rough size\n",
    "- Strength\n",
    "Methods:\n",
    "- Bivariate visualizations\n",
    "- Calculate correlation"
   ]
  },
  {
   "cell_type": "markdown",
   "metadata": {},
   "source": [
    "## 3. Assessing interactions between variables"
   ]
  },
  {
   "cell_type": "markdown",
   "metadata": {},
   "source": [
    "- Bivariate visualizations\n",
    "- Correlation matrices\n",
    "- Compare summary statistics of variable x for different categories of y\n"
   ]
  },
  {
   "cell_type": "markdown",
   "metadata": {},
   "source": [
    "## 4. Exploring data across many dimensions"
   ]
  },
  {
   "cell_type": "markdown",
   "metadata": {},
   "source": [
    "- Categorical:\n",
    "    - Parallel coordinates\n",
    "- Continuous\n",
    "    - Principal component analysis\n",
    "    - Clustering"
   ]
  },
  {
   "cell_type": "markdown",
   "metadata": {},
   "source": [
    "# Feature Engineering"
   ]
  },
  {
   "cell_type": "code",
   "execution_count": null,
   "metadata": {},
   "outputs": [],
   "source": [
    "# Removal of informationlesss variables\n"
   ]
  },
  {
   "cell_type": "markdown",
   "metadata": {},
   "source": [
    "# Basic preprocessing"
   ]
  },
  {
   "cell_type": "code",
   "execution_count": 16,
   "metadata": {},
   "outputs": [
    {
     "name": "stdout",
     "output_type": "stream",
     "text": [
      "Column(s) name(s) present in user and business: {'name'}\n",
      "Column(s) name(s) present in user and reviews: {'useful', 'user_id', 'funny', 'cool'}\n",
      "Column(s) name(s) present in business and reviews: {'business_id'}\n"
     ]
    }
   ],
   "source": [
    "# Assessing columns with the same name\n",
    "print(f\"Column(s) name(s) present in user and business: {set(df_users.columns).intersection(set(df_business.columns))}\")\n",
    "print(f\"Column(s) name(s) present in user and reviews: {set(df_users.columns).intersection(set(df_Train_reviews.columns))}\")\n",
    "print(f\"Column(s) name(s) present in business and reviews: {set(df_business.columns).intersection(set(df_Train_reviews.columns))}\")"
   ]
  },
  {
   "cell_type": "code",
   "execution_count": 17,
   "metadata": {},
   "outputs": [],
   "source": [
    "df_users.rename(columns={'name': 'user_name', 'useful': 'useful_user', 'funny': 'funny_user', 'cool': 'cool_user'}, inplace=True)\n",
    "df_business.rename(columns={'name': 'business_name'}, inplace=True)\n",
    "df_Train_reviews.rename(columns={'useful': 'useful_review', 'funny': 'funny_review', 'cool': 'cool_review'}, inplace=True)"
   ]
  },
  {
   "cell_type": "code",
   "execution_count": 27,
   "metadata": {},
   "outputs": [
    {
     "name": "stdout",
     "output_type": "stream",
     "text": [
      "Number of user ids not in the reviews dataset: 168432\n",
      "Number of user ids not in the user dataset: 7\n",
      "Number of business ids not in the reviews dataset: 9803\n",
      "Number of business ids not in the business dataset: 0\n"
     ]
    }
   ],
   "source": [
    "# Assessing the number of obersevations that will be lost if we merge the datasets\n",
    "print(f\"Number of user ids not in the reviews dataset: {len(set(df_users.user_id).difference(set(df_Train_reviews.user_id)))}\")\n",
    "print(f\"Number of user ids not in the user dataset: {len(set(df_Train_reviews.user_id).difference(set(df_users.user_id)))}\")\n",
    "print(f\"Number of business ids not in the reviews dataset: {len(set(df_business.business_id).difference(set(df_Train_reviews.business_id)))}\") \n",
    "print(f\"Number of business ids not in the business dataset: {len(set(df_Train_reviews.business_id).difference(set(df_business.business_id)))}\")"
   ]
  },
  {
   "cell_type": "code",
   "execution_count": 31,
   "metadata": {},
   "outputs": [
    {
     "name": "stdout",
     "output_type": "stream",
     "text": [
      "<class 'pandas.core.frame.DataFrame'>\n",
      "RangeIndex: 1049993 entries, 0 to 1049992\n",
      "Data columns (total 34 columns):\n",
      " #   Column              Non-Null Count    Dtype  \n",
      "---  ------              --------------    -----  \n",
      " 0   rating              1049993 non-null  int64  \n",
      " 1   useful_review       1049993 non-null  int64  \n",
      " 2   funny_review        1049993 non-null  int64  \n",
      " 3   cool_review         1049993 non-null  int64  \n",
      " 4   text                1049993 non-null  object \n",
      " 5   date                1049993 non-null  object \n",
      " 6   user_name           1049981 non-null  object \n",
      " 7   user_since          1049993 non-null  object \n",
      " 8   useful_user         1049993 non-null  float64\n",
      " 9   funny_user          1049993 non-null  float64\n",
      " 10  cool_user           1049993 non-null  float64\n",
      " 11  premium_account     258797 non-null   object \n",
      " 12  friends             1049993 non-null  float64\n",
      " 13  fans                1049993 non-null  float64\n",
      " 14  compliment_hot      1049993 non-null  float64\n",
      " 15  compliment_more     1049993 non-null  float64\n",
      " 16  compliment_profile  1049993 non-null  float64\n",
      " 17  compliment_cute     1049993 non-null  float64\n",
      " 18  compliment_list     1049993 non-null  float64\n",
      " 19  compliment_note     1049993 non-null  float64\n",
      " 20  compliment_plain    1049993 non-null  float64\n",
      " 21  compliment_cool     1049993 non-null  float64\n",
      " 22  compliment_funny    1049993 non-null  float64\n",
      " 23  compliment_writer   1049993 non-null  float64\n",
      " 24  business_name       1049993 non-null  object \n",
      " 25  address             1037280 non-null  object \n",
      " 26  city                1049993 non-null  object \n",
      " 27  state               1049993 non-null  object \n",
      " 28  postal_code         1049836 non-null  object \n",
      " 29  latitude            1049993 non-null  float64\n",
      " 30  longitude           1049993 non-null  float64\n",
      " 31  attributes          1022697 non-null  object \n",
      " 32  categories          1049902 non-null  object \n",
      " 33  hours               989967 non-null   object \n",
      "dtypes: float64(17), int64(4), object(13)\n",
      "memory usage: 272.4+ MB\n"
     ]
    }
   ],
   "source": [
    "# Merge the datasets\n",
    "merged_reviews = pd.merge(pd.merge(df_Train_reviews, df_users, on='user_id', how='inner'), df_business, on='business_id', how='inner')\n",
    "# Remove the columns that are not useful\n",
    "merged_reviews.drop(columns=['id', 'user_id', 'business_id'], inplace=True)\n",
    "merged_reviews.info() "
   ]
  },
  {
   "cell_type": "code",
   "execution_count": 32,
   "metadata": {},
   "outputs": [
    {
     "name": "stdout",
     "output_type": "stream",
     "text": [
      "Loss of observations: 7 obersevations that were uncomplete\n"
     ]
    }
   ],
   "source": [
    "print(f\"Loss of observations: {len(df_Train_reviews) - len(merged_reviews)} obersevations\") #user_ids that were not in the user dataset"
   ]
  },
  {
   "cell_type": "markdown",
   "metadata": {},
   "source": [
    "# Models"
   ]
  },
  {
   "cell_type": "markdown",
   "metadata": {},
   "source": [
    "# Models Comparison & Best Model Assessment"
   ]
  }
 ],
 "metadata": {
  "kernelspec": {
   "display_name": "Python 3",
   "language": "python",
   "name": "python3"
  },
  "language_info": {
   "codemirror_mode": {
    "name": "ipython",
    "version": 3
   },
   "file_extension": ".py",
   "mimetype": "text/x-python",
   "name": "python",
   "nbconvert_exporter": "python",
   "pygments_lexer": "ipython3",
   "version": "3.10.6"
  }
 },
 "nbformat": 4,
 "nbformat_minor": 2
}
