{
 "cells": [
  {
   "cell_type": "code",
   "execution_count": 30,
   "metadata": {},
   "outputs": [],
   "source": [
    "import pandas as pd\n",
    "# pd.options.mode.chained_assignment = None  # default='warn'\n",
    "import ast as ast\n",
    "import numpy as np\n",
    "from typing import *\n",
    "\n",
    "from task_2_helpers import *\n",
    "from collections import Counter\n",
    "\n",
    "import tensorflow as tf\n",
    "from tensorflow import keras\n",
    "from tensorflow.keras import layers, losses, optimizers\n",
    "from tensorflow.keras import Sequential\n",
    "\n",
    "import nltk\n",
    "from nltk.tokenize import word_tokenize\n",
    "\n",
    "import datasets\n",
    "from transformers import pipeline, AutoTokenizer, AutoModelForSeq2SeqLM\n",
    "from textblob import TextBlob\n",
    "from collections import defaultdict\n",
    "\n",
    "import matplotlib.pyplot as plt\n",
    "\n",
    "# from task2_business_KNN import classify_Kmeans\n"
   ]
  },
  {
   "attachments": {},
   "cell_type": "markdown",
   "metadata": {},
   "source": [
    "### Data Read"
   ]
  },
  {
   "cell_type": "code",
   "execution_count": 3,
   "metadata": {},
   "outputs": [
    {
     "name": "stdout",
     "output_type": "stream",
     "text": [
      "(138210, 11)\n"
     ]
    }
   ],
   "source": [
    "# df_business = pd.read_parquet('data/ATML2024_businesses.parquet')\n",
    "df_business = pd.read_csv('data/ATML2024_businesses.csv', header=0)\n",
    "print(df_business.shape)\n",
    "# df_Train_reviews = pd.read_parquet('data/ATML2024_reviews_train.parquet')\n",
    "df_Train_reviews = pd.read_csv('data/ATML2024_reviews_train.csv', header=0)\n",
    "\n",
    "# # df_users = pd.read_parquet('data/ATML2024_users.parquet')\n",
    "# df_users = pd.read_csv('data/ATML2024_users.csv', header=0, nrows=100)"
   ]
  },
  {
   "cell_type": "code",
   "execution_count": 4,
   "metadata": {},
   "outputs": [
    {
     "data": {
      "text/plain": [
       "postal_code\n",
       "False    138145\n",
       "True         65\n",
       "Name: count, dtype: int64"
      ]
     },
     "execution_count": 4,
     "metadata": {},
     "output_type": "execute_result"
    }
   ],
   "source": [
    "df_business.postal_code.isna().value_counts()"
   ]
  },
  {
   "cell_type": "code",
   "execution_count": 5,
   "metadata": {},
   "outputs": [
    {
     "name": "stdout",
     "output_type": "stream",
     "text": [
      "19707\n"
     ]
    }
   ],
   "source": [
    "zipCodes = dict(df_business.postal_code.value_counts())\n",
    "\n",
    "val_count = 0\n",
    "for z in zipCodes.keys():\n",
    "    try:\n",
    "        zcode = int(z)\n",
    "        if zcode >= 19019 and  zcode <= 19255: ### Philadelphia zip codes\n",
    "            val_count += zipCodes[str(z)]\n",
    "    except:\n",
    "        continue\n",
    "\n",
    "print(val_count)"
   ]
  },
  {
   "cell_type": "code",
   "execution_count": 6,
   "metadata": {},
   "outputs": [
    {
     "name": "stdout",
     "output_type": "stream",
     "text": [
      "(13617, 11)\n"
     ]
    }
   ],
   "source": [
    "bussiness_city = ['Phila','Philadelphia', 'Philadelphia', 'Philadelphia (Northeast Philly)', 'Philadelphia PA', 'Philadelphila', 'Philadephia', 'Philiadelphia', \n",
    "                  'Philiidelphia', 'Philly', 'Southwest Philadelphia', 'West Philadelphia', 'philadelphia', 'PHILA', 'PHILADELPHIA']\n",
    "print(df_business[df_business['city'].isin(bussiness_city)].shape)\n"
   ]
  },
  {
   "attachments": {},
   "cell_type": "markdown",
   "metadata": {},
   "source": [
    "### Cleanup business data columns"
   ]
  },
  {
   "cell_type": "code",
   "execution_count": 7,
   "metadata": {},
   "outputs": [
    {
     "data": {
      "text/html": [
       "<div>\n",
       "<style scoped>\n",
       "    .dataframe tbody tr th:only-of-type {\n",
       "        vertical-align: middle;\n",
       "    }\n",
       "\n",
       "    .dataframe tbody tr th {\n",
       "        vertical-align: top;\n",
       "    }\n",
       "\n",
       "    .dataframe thead th {\n",
       "        text-align: right;\n",
       "    }\n",
       "</style>\n",
       "<table border=\"1\" class=\"dataframe\">\n",
       "  <thead>\n",
       "    <tr style=\"text-align: right;\">\n",
       "      <th></th>\n",
       "      <th>business_id</th>\n",
       "      <th>name</th>\n",
       "      <th>address</th>\n",
       "      <th>city</th>\n",
       "      <th>state</th>\n",
       "      <th>postal_code</th>\n",
       "      <th>latitude</th>\n",
       "      <th>longitude</th>\n",
       "      <th>attributes</th>\n",
       "      <th>categories</th>\n",
       "      <th>hours</th>\n",
       "      <th>postal_code_int</th>\n",
       "    </tr>\n",
       "  </thead>\n",
       "  <tbody>\n",
       "    <tr>\n",
       "      <th>0</th>\n",
       "      <td>wPYArZCy3AETdTjB-x3fpm</td>\n",
       "      <td>The UPS Store</td>\n",
       "      <td>87 Grasso Plaza Shopping Center</td>\n",
       "      <td>Affton</td>\n",
       "      <td>MO</td>\n",
       "      <td>63123</td>\n",
       "      <td>38.551126</td>\n",
       "      <td>-90.335695</td>\n",
       "      <td>{'BusinessAcceptsCreditCards': 'True'}</td>\n",
       "      <td>Shipping Centers, Local Services, Notaries, Ma...</td>\n",
       "      <td>{'Monday': '0:0-0:0', 'Tuesday': '8:0-18:30', ...</td>\n",
       "      <td>63123.0</td>\n",
       "    </tr>\n",
       "    <tr>\n",
       "      <th>1</th>\n",
       "      <td>QQNIWVsnAT_iKiKriWrFUt</td>\n",
       "      <td>Target</td>\n",
       "      <td>5255 E Broadway Blvd</td>\n",
       "      <td>Tucson</td>\n",
       "      <td>AZ</td>\n",
       "      <td>85711</td>\n",
       "      <td>32.223236</td>\n",
       "      <td>-110.880452</td>\n",
       "      <td>{'BikeParking': 'True', 'BusinessAcceptsCredit...</td>\n",
       "      <td>Department Stores, Shopping, Fashion, Home &amp; G...</td>\n",
       "      <td>{'Monday': '8:0-22:0', 'Tuesday': '8:0-22:0', ...</td>\n",
       "      <td>85711.0</td>\n",
       "    </tr>\n",
       "    <tr>\n",
       "      <th>2</th>\n",
       "      <td>wm9eoqjytVbC7dQcM4WSTM</td>\n",
       "      <td>St Honore Pastries</td>\n",
       "      <td>935 Race St</td>\n",
       "      <td>Philadelphia</td>\n",
       "      <td>PA</td>\n",
       "      <td>19107</td>\n",
       "      <td>39.955505</td>\n",
       "      <td>-75.155564</td>\n",
       "      <td>{'RestaurantsDelivery': 'False', 'OutdoorSeati...</td>\n",
       "      <td>Restaurants, Food, Bubble Tea, Coffee &amp; Tea, B...</td>\n",
       "      <td>{'Monday': '7:0-20:0', 'Tuesday': '7:0-20:0', ...</td>\n",
       "      <td>19107.0</td>\n",
       "    </tr>\n",
       "    <tr>\n",
       "      <th>3</th>\n",
       "      <td>AfVDXGIKBUE0EdTw_6cMWm</td>\n",
       "      <td>Perkiomen Valley Brewery</td>\n",
       "      <td>101 Walnut St</td>\n",
       "      <td>Green Lane</td>\n",
       "      <td>PA</td>\n",
       "      <td>18054</td>\n",
       "      <td>40.338183</td>\n",
       "      <td>-75.471659</td>\n",
       "      <td>{'BusinessAcceptsCreditCards': 'True', 'Wheelc...</td>\n",
       "      <td>Brewpubs, Breweries, Food</td>\n",
       "      <td>{'Wednesday': '14:0-22:0', 'Thursday': '16:0-2...</td>\n",
       "      <td>18054.0</td>\n",
       "    </tr>\n",
       "    <tr>\n",
       "      <th>4</th>\n",
       "      <td>QjvanH64QUduo6E-8F33FC</td>\n",
       "      <td>Sonic Drive-In</td>\n",
       "      <td>615 S Main St</td>\n",
       "      <td>Ashland City</td>\n",
       "      <td>TN</td>\n",
       "      <td>37015</td>\n",
       "      <td>36.269593</td>\n",
       "      <td>-87.058943</td>\n",
       "      <td>{'BusinessParking': 'None', 'BusinessAcceptsCr...</td>\n",
       "      <td>Burgers, Fast Food, Sandwiches, Food, Ice Crea...</td>\n",
       "      <td>{'Monday': '0:0-0:0', 'Tuesday': '6:0-22:0', '...</td>\n",
       "      <td>37015.0</td>\n",
       "    </tr>\n",
       "  </tbody>\n",
       "</table>\n",
       "</div>"
      ],
      "text/plain": [
       "              business_id                      name  \\\n",
       "0  wPYArZCy3AETdTjB-x3fpm             The UPS Store   \n",
       "1  QQNIWVsnAT_iKiKriWrFUt                    Target   \n",
       "2  wm9eoqjytVbC7dQcM4WSTM        St Honore Pastries   \n",
       "3  AfVDXGIKBUE0EdTw_6cMWm  Perkiomen Valley Brewery   \n",
       "4  QjvanH64QUduo6E-8F33FC            Sonic Drive-In   \n",
       "\n",
       "                           address          city state postal_code   latitude  \\\n",
       "0  87 Grasso Plaza Shopping Center        Affton    MO       63123  38.551126   \n",
       "1             5255 E Broadway Blvd        Tucson    AZ       85711  32.223236   \n",
       "2                      935 Race St  Philadelphia    PA       19107  39.955505   \n",
       "3                    101 Walnut St    Green Lane    PA       18054  40.338183   \n",
       "4                    615 S Main St  Ashland City    TN       37015  36.269593   \n",
       "\n",
       "    longitude                                         attributes  \\\n",
       "0  -90.335695             {'BusinessAcceptsCreditCards': 'True'}   \n",
       "1 -110.880452  {'BikeParking': 'True', 'BusinessAcceptsCredit...   \n",
       "2  -75.155564  {'RestaurantsDelivery': 'False', 'OutdoorSeati...   \n",
       "3  -75.471659  {'BusinessAcceptsCreditCards': 'True', 'Wheelc...   \n",
       "4  -87.058943  {'BusinessParking': 'None', 'BusinessAcceptsCr...   \n",
       "\n",
       "                                          categories  \\\n",
       "0  Shipping Centers, Local Services, Notaries, Ma...   \n",
       "1  Department Stores, Shopping, Fashion, Home & G...   \n",
       "2  Restaurants, Food, Bubble Tea, Coffee & Tea, B...   \n",
       "3                          Brewpubs, Breweries, Food   \n",
       "4  Burgers, Fast Food, Sandwiches, Food, Ice Crea...   \n",
       "\n",
       "                                               hours  postal_code_int  \n",
       "0  {'Monday': '0:0-0:0', 'Tuesday': '8:0-18:30', ...          63123.0  \n",
       "1  {'Monday': '8:0-22:0', 'Tuesday': '8:0-22:0', ...          85711.0  \n",
       "2  {'Monday': '7:0-20:0', 'Tuesday': '7:0-20:0', ...          19107.0  \n",
       "3  {'Wednesday': '14:0-22:0', 'Thursday': '16:0-2...          18054.0  \n",
       "4  {'Monday': '0:0-0:0', 'Tuesday': '6:0-22:0', '...          37015.0  "
      ]
     },
     "execution_count": 7,
     "metadata": {},
     "output_type": "execute_result"
    }
   ],
   "source": [
    "df_business['postal_code_int'] = pd.to_numeric(df_business['postal_code'], errors='coerce', downcast='integer')\n",
    "df_business.head()"
   ]
  },
  {
   "cell_type": "code",
   "execution_count": 8,
   "metadata": {},
   "outputs": [
    {
     "name": "stdout",
     "output_type": "stream",
     "text": [
      "(19707, 12)\n",
      "(19707, 12)\n",
      "(19707, 12)\n",
      "(19707, 13)\n"
     ]
    }
   ],
   "source": [
    "# Convert dictionary columns to the correct types @@@@ Run only once\n",
    "df_business_ph = df_business.loc[ (df_business['postal_code_int'] >= 19019) & (df_business['postal_code_int'] <= 19255) ].copy()\n",
    "print(df_business_ph.shape)\n",
    "df_business_ph['attributes'] = df_business_ph['attributes'].apply(lambda x: ast.literal_eval(x) if not pd.isna(x) or not pd.isnull(x)  else dict())\n",
    "print(df_business_ph.shape)\n",
    "df_business_ph['hours'] = df_business_ph['hours'].apply(lambda x: ast.literal_eval(x) if not pd.isna(x) or not pd.isnull(x)  else dict())\n",
    "print(df_business_ph.shape)\n",
    "\n",
    "# df_business['weekend'] = df_business['hours'].apply(lambda x: extract_weekend_value(x))\n",
    "df_business_ph['hours_list'] = df_business_ph['hours'].apply(lambda x: extract_hours_value(x))\n",
    "\n",
    "print(df_business_ph.shape)"
   ]
  },
  {
   "cell_type": "code",
   "execution_count": 9,
   "metadata": {},
   "outputs": [],
   "source": [
    "df_business_ph['attributes_list'] = df_business_ph['attributes'].apply(lambda x: sorted(extract_attributes_value(x)))\n",
    "df_business_ph['categories_list'] = df_business_ph['categories'].apply(lambda x: sorted(map(lambda a: a.strip().lower(), x.split(',')) ) if isinstance(x, str) else [x])"
   ]
  },
  {
   "attachments": {},
   "cell_type": "markdown",
   "metadata": {},
   "source": [
    "### Join Business Data With Ratings Data and Conduct Exploratory Data Analysis (EDA)"
   ]
  },
  {
   "cell_type": "code",
   "execution_count": 10,
   "metadata": {},
   "outputs": [
    {
     "name": "stdout",
     "output_type": "stream",
     "text": [
      "(176549, 10)\n"
     ]
    },
    {
     "data": {
      "text/html": [
       "<div>\n",
       "<style scoped>\n",
       "    .dataframe tbody tr th:only-of-type {\n",
       "        vertical-align: middle;\n",
       "    }\n",
       "\n",
       "    .dataframe tbody tr th {\n",
       "        vertical-align: top;\n",
       "    }\n",
       "\n",
       "    .dataframe thead th {\n",
       "        text-align: right;\n",
       "    }\n",
       "</style>\n",
       "<table border=\"1\" class=\"dataframe\">\n",
       "  <thead>\n",
       "    <tr style=\"text-align: right;\">\n",
       "      <th></th>\n",
       "      <th>business_id</th>\n",
       "      <th>postal_code_int</th>\n",
       "      <th>attributes_list</th>\n",
       "      <th>hours_list</th>\n",
       "      <th>categories_list</th>\n",
       "      <th>rating</th>\n",
       "      <th>useful</th>\n",
       "      <th>funny</th>\n",
       "      <th>cool</th>\n",
       "      <th>text</th>\n",
       "    </tr>\n",
       "  </thead>\n",
       "  <tbody>\n",
       "    <tr>\n",
       "      <th>0</th>\n",
       "      <td>wm9eoqjytVbC7dQcM4WSTM</td>\n",
       "      <td>19107.0</td>\n",
       "      <td>[Alcohol, BikeParking, BusinessAcceptsCreditCa...</td>\n",
       "      <td>[[7.0, 20.0], [7.0, 20.0], [7.0, 20.0], [7.0, ...</td>\n",
       "      <td>[bakeries, bubble tea, coffee &amp; tea, food, res...</td>\n",
       "      <td>4</td>\n",
       "      <td>1</td>\n",
       "      <td>0</td>\n",
       "      <td>2</td>\n",
       "      <td>So I don't know how the other review was doubl...</td>\n",
       "    </tr>\n",
       "    <tr>\n",
       "      <th>1</th>\n",
       "      <td>wm9eoqjytVbC7dQcM4WSTM</td>\n",
       "      <td>19107.0</td>\n",
       "      <td>[Alcohol, BikeParking, BusinessAcceptsCreditCa...</td>\n",
       "      <td>[[7.0, 20.0], [7.0, 20.0], [7.0, 20.0], [7.0, ...</td>\n",
       "      <td>[bakeries, bubble tea, coffee &amp; tea, food, res...</td>\n",
       "      <td>5</td>\n",
       "      <td>0</td>\n",
       "      <td>0</td>\n",
       "      <td>0</td>\n",
       "      <td>I love this place..  I love their chunky fried...</td>\n",
       "    </tr>\n",
       "    <tr>\n",
       "      <th>2</th>\n",
       "      <td>wm9eoqjytVbC7dQcM4WSTM</td>\n",
       "      <td>19107.0</td>\n",
       "      <td>[Alcohol, BikeParking, BusinessAcceptsCreditCa...</td>\n",
       "      <td>[[7.0, 20.0], [7.0, 20.0], [7.0, 20.0], [7.0, ...</td>\n",
       "      <td>[bakeries, bubble tea, coffee &amp; tea, food, res...</td>\n",
       "      <td>5</td>\n",
       "      <td>0</td>\n",
       "      <td>0</td>\n",
       "      <td>1</td>\n",
       "      <td>I ordered so many cake from here for our famil...</td>\n",
       "    </tr>\n",
       "    <tr>\n",
       "      <th>3</th>\n",
       "      <td>wm9eoqjytVbC7dQcM4WSTM</td>\n",
       "      <td>19107.0</td>\n",
       "      <td>[Alcohol, BikeParking, BusinessAcceptsCreditCa...</td>\n",
       "      <td>[[7.0, 20.0], [7.0, 20.0], [7.0, 20.0], [7.0, ...</td>\n",
       "      <td>[bakeries, bubble tea, coffee &amp; tea, food, res...</td>\n",
       "      <td>4</td>\n",
       "      <td>0</td>\n",
       "      <td>0</td>\n",
       "      <td>0</td>\n",
       "      <td>Ordered a birthday cake here for the first tim...</td>\n",
       "    </tr>\n",
       "    <tr>\n",
       "      <th>4</th>\n",
       "      <td>wm9eoqjytVbC7dQcM4WSTM</td>\n",
       "      <td>19107.0</td>\n",
       "      <td>[Alcohol, BikeParking, BusinessAcceptsCreditCa...</td>\n",
       "      <td>[[7.0, 20.0], [7.0, 20.0], [7.0, 20.0], [7.0, ...</td>\n",
       "      <td>[bakeries, bubble tea, coffee &amp; tea, food, res...</td>\n",
       "      <td>5</td>\n",
       "      <td>1</td>\n",
       "      <td>0</td>\n",
       "      <td>0</td>\n",
       "      <td>This is my favorite bakery in Chinatown! It's ...</td>\n",
       "    </tr>\n",
       "  </tbody>\n",
       "</table>\n",
       "</div>"
      ],
      "text/plain": [
       "              business_id  postal_code_int  \\\n",
       "0  wm9eoqjytVbC7dQcM4WSTM          19107.0   \n",
       "1  wm9eoqjytVbC7dQcM4WSTM          19107.0   \n",
       "2  wm9eoqjytVbC7dQcM4WSTM          19107.0   \n",
       "3  wm9eoqjytVbC7dQcM4WSTM          19107.0   \n",
       "4  wm9eoqjytVbC7dQcM4WSTM          19107.0   \n",
       "\n",
       "                                     attributes_list  \\\n",
       "0  [Alcohol, BikeParking, BusinessAcceptsCreditCa...   \n",
       "1  [Alcohol, BikeParking, BusinessAcceptsCreditCa...   \n",
       "2  [Alcohol, BikeParking, BusinessAcceptsCreditCa...   \n",
       "3  [Alcohol, BikeParking, BusinessAcceptsCreditCa...   \n",
       "4  [Alcohol, BikeParking, BusinessAcceptsCreditCa...   \n",
       "\n",
       "                                          hours_list  \\\n",
       "0  [[7.0, 20.0], [7.0, 20.0], [7.0, 20.0], [7.0, ...   \n",
       "1  [[7.0, 20.0], [7.0, 20.0], [7.0, 20.0], [7.0, ...   \n",
       "2  [[7.0, 20.0], [7.0, 20.0], [7.0, 20.0], [7.0, ...   \n",
       "3  [[7.0, 20.0], [7.0, 20.0], [7.0, 20.0], [7.0, ...   \n",
       "4  [[7.0, 20.0], [7.0, 20.0], [7.0, 20.0], [7.0, ...   \n",
       "\n",
       "                                     categories_list  rating  useful  funny  \\\n",
       "0  [bakeries, bubble tea, coffee & tea, food, res...       4       1      0   \n",
       "1  [bakeries, bubble tea, coffee & tea, food, res...       5       0      0   \n",
       "2  [bakeries, bubble tea, coffee & tea, food, res...       5       0      0   \n",
       "3  [bakeries, bubble tea, coffee & tea, food, res...       4       0      0   \n",
       "4  [bakeries, bubble tea, coffee & tea, food, res...       5       1      0   \n",
       "\n",
       "   cool                                               text  \n",
       "0     2  So I don't know how the other review was doubl...  \n",
       "1     0  I love this place..  I love their chunky fried...  \n",
       "2     1  I ordered so many cake from here for our famil...  \n",
       "3     0  Ordered a birthday cake here for the first tim...  \n",
       "4     0  This is my favorite bakery in Chinatown! It's ...  "
      ]
     },
     "execution_count": 10,
     "metadata": {},
     "output_type": "execute_result"
    }
   ],
   "source": [
    "df_business_data = df_business_ph[['business_id', 'postal_code_int', 'attributes_list', 'hours_list', 'categories_list']]\n",
    "df_ratings_data = df_Train_reviews[['business_id', 'rating', 'useful', 'funny', 'cool', 'text']]\n",
    "\n",
    "df_data = pd.merge(df_business_data, df_ratings_data, left_on= 'business_id', right_on='business_id')\n",
    "print(df_data.shape)\n",
    "df_data.head()"
   ]
  },
  {
   "cell_type": "code",
   "execution_count": 1,
   "metadata": {},
   "outputs": [
    {
     "ename": "NameError",
     "evalue": "name 'df_data' is not defined",
     "output_type": "error",
     "traceback": [
      "\u001b[0;31m---------------------------------------------------------------------------\u001b[0m",
      "\u001b[0;31mNameError\u001b[0m                                 Traceback (most recent call last)",
      "Cell \u001b[0;32mIn[1], line 1\u001b[0m\n\u001b[0;32m----> 1\u001b[0m \u001b[43mdf_data\u001b[49m\u001b[38;5;241m.\u001b[39mto_parquet(\u001b[38;5;124m'\u001b[39m\u001b[38;5;124mdata/ATML2024_Task2_PhiliBussRatings.parquet\u001b[39m\u001b[38;5;124m'\u001b[39m)\n",
      "\u001b[0;31mNameError\u001b[0m: name 'df_data' is not defined"
     ]
    }
   ],
   "source": [
    "df_data.to_parquet('data/ATML2024_Task2_PhiliBussRatings.parquet')"
   ]
  },
  {
   "attachments": {},
   "cell_type": "markdown",
   "metadata": {},
   "source": [
    "### Explanatory Data Analysis"
   ]
  },
  {
   "cell_type": "code",
   "execution_count": 3,
   "metadata": {},
   "outputs": [
    {
     "name": "stdout",
     "output_type": "stream",
     "text": [
      "(176549, 10)\n",
      "Index(['business_id', 'postal_code_int', 'attributes_list', 'hours_list',\n",
      "       'categories_list', 'rating', 'useful', 'funny', 'cool', 'text'],\n",
      "      dtype='object')\n"
     ]
    },
    {
     "data": {
      "text/plain": [
       "(123414, 10)"
      ]
     },
     "execution_count": 3,
     "metadata": {},
     "output_type": "execute_result"
    }
   ],
   "source": [
    "df_data = pd.read_parquet('data/ATML2024_Task2_PhiliBussRatings.parquet', engine='pyarrow')\n",
    "print(df_data.shape)\n",
    "\n",
    "df_data_res = df_data[df_data['categories_list'].apply(lambda x: any('restaurants' in str(a).lower() for a in x)\n",
    "                       or any('restaurant' in str(a).lower() for a in x))]\n",
    "df_data_res.shape\n"
   ]
  },
  {
   "cell_type": "code",
   "execution_count": 4,
   "metadata": {},
   "outputs": [],
   "source": [
    "# all_uniq_cat = set(np.concatenate(df_data.categories_list.values).ravel()) #df_data.categories_list.values.flatten()\n",
    "# all_uniq_attr = set(np.concatenate(df_data.attributes_list.values).ravel()) #df_data.categories_list.values.flatten()"
   ]
  },
  {
   "cell_type": "markdown",
   "metadata": {},
   "source": [
    "#### 2.0 Find out which one of the categories are related to restaurant services\n",
    "\n",
    "Before deal with the reviews and treds in them, we need to identify which one of the businesses are actually in the restaurant and related area."
   ]
  },
  {
   "cell_type": "code",
   "execution_count": 5,
   "metadata": {},
   "outputs": [
    {
     "name": "stdout",
     "output_type": "stream",
     "text": [
      "Total number of distinct categories of business: 1081\n",
      "The most frequest categories : [('restaurants', 123410), ('food', 47310), ('nightlife', 40206), ('bars', 38164), ('american (new)', 26829), ('breakfast & brunch', 22358), ('american (traditional)', 21800), ('sandwiches', 19789), ('italian', 15313), ('coffee & tea', 14008)]\n",
      "(123414, 10)\n"
     ]
    }
   ],
   "source": [
    "business_cat = np.concatenate(df_data.categories_list.values).ravel()\n",
    "c = Counter(business_cat)\n",
    "\n",
    "print(f'Total number of distinct categories of business: {len(c)}')\n",
    "\n",
    "print(f'The most frequest categories : {c.most_common(10)}')\n",
    "\n",
    "df_data_res = df_data[df_data['categories_list'].apply(lambda x: any('restaurants' in str(a).lower() for a in x)\n",
    "                       or any('restaurant' in str(a).lower() for a in x))]\n",
    "                                                                \n",
    "print(df_data_res.shape)                                                    "
   ]
  },
  {
   "cell_type": "markdown",
   "metadata": {},
   "source": [
    "### 2.2 What is the food trend of Philadelphia"
   ]
  },
  {
   "cell_type": "code",
   "execution_count": null,
   "metadata": {},
   "outputs": [],
   "source": []
  },
  {
   "cell_type": "code",
   "execution_count": 6,
   "metadata": {},
   "outputs": [],
   "source": [
    "# rating_1_cat = set(np.concatenate(df_data[df_data.rating == 1].categories_list.values).ravel())\n",
    "# rating_2_cat = set(np.concatenate(df_data[df_data.rating == 2].categories_list.values).ravel())\n",
    "# rating_3_cat = set(np.concatenate(df_data[df_data.rating == 3].categories_list.values).ravel())\n",
    "# rating_4_cat = set(np.concatenate(df_data[df_data.rating == 4].categories_list.values).ravel())\n",
    "# rating_5_cat = set(np.concatenate(df_data[df_data.rating == 5].categories_list.values).ravel())"
   ]
  },
  {
   "cell_type": "markdown",
   "metadata": {},
   "source": [
    "#### 2.3 Transformer (Kyril)"
   ]
  },
  {
   "cell_type": "code",
   "execution_count": 7,
   "metadata": {},
   "outputs": [
    {
     "name": "stderr",
     "output_type": "stream",
     "text": [
      "All PyTorch model weights were used when initializing TFDistilBertForSequenceClassification.\n",
      "\n",
      "All the weights of TFDistilBertForSequenceClassification were initialized from the PyTorch model.\n",
      "If your task is similar to the task the model of the checkpoint was trained on, you can already use TFDistilBertForSequenceClassification for predictions without further training.\n"
     ]
    }
   ],
   "source": [
    "sent_pipe = pipeline(\"sentiment-analysis\", # or \"text-classification\"\n",
    "                     model=\"distilbert-base-uncased-finetuned-sst-2-english\")"
   ]
  },
  {
   "cell_type": "code",
   "execution_count": 9,
   "metadata": {},
   "outputs": [],
   "source": [
    "# Use tokenize function to ignore too long \n",
    "# Define stopwords and punctuation\n",
    "\n",
    "#stop_words = set(stopwords.words('english'))\n",
    "#punctuation = set(string.punctuation)\n",
    "\n",
    "def clean_tokens(text : str) -> List:\n",
    "    \n",
    "    # Tokenize the text\n",
    "    token = word_tokenize(text.lower())\n",
    "    \n",
    "    # Remove unwanted punctuation and stop words\n",
    "    # if extra_clean == True:\n",
    "    #    tokens = [word for word in tokens if (word not in punctuation and word not in stop_words)]\n",
    "\n",
    "    return token"
   ]
  },
  {
   "cell_type": "code",
   "execution_count": 10,
   "metadata": {},
   "outputs": [
    {
     "name": "stderr",
     "output_type": "stream",
     "text": [
      "/tmp/ipykernel_14350/792970574.py:1: SettingWithCopyWarning: \n",
      "A value is trying to be set on a copy of a slice from a DataFrame.\n",
      "Try using .loc[row_indexer,col_indexer] = value instead\n",
      "\n",
      "See the caveats in the documentation: https://pandas.pydata.org/pandas-docs/stable/user_guide/indexing.html#returning-a-view-versus-a-copy\n",
      "  df_data_res['text_tokens']  = df_data_res['text'].apply(clean_tokens)\n",
      "/tmp/ipykernel_14350/792970574.py:2: SettingWithCopyWarning: \n",
      "A value is trying to be set on a copy of a slice from a DataFrame.\n",
      "Try using .loc[row_indexer,col_indexer] = value instead\n",
      "\n",
      "See the caveats in the documentation: https://pandas.pydata.org/pandas-docs/stable/user_guide/indexing.html#returning-a-view-versus-a-copy\n",
      "  df_data_res['tokens_count'] = df_data_res['text_tokens'].apply(len)\n"
     ]
    }
   ],
   "source": [
    "df_data_res['text_tokens']  = df_data_res['text'].apply(clean_tokens)\n",
    "df_data_res['tokens_count'] = df_data_res['text_tokens'].apply(len)"
   ]
  },
  {
   "cell_type": "code",
   "execution_count": 11,
   "metadata": {},
   "outputs": [],
   "source": [
    "df_data_res.to_parquet('data/ATML2024_Task2_PhiliResRatings.parquet')"
   ]
  },
  {
   "cell_type": "markdown",
   "metadata": {},
   "source": [
    "Milestone "
   ]
  },
  {
   "cell_type": "code",
   "execution_count": 2,
   "metadata": {},
   "outputs": [
    {
     "name": "stdout",
     "output_type": "stream",
     "text": [
      "(123414, 12)\n"
     ]
    }
   ],
   "source": [
    "df_data_res = pd.read_parquet('data/ATML2024_Task2_PhiliResRatings.parquet', engine='pyarrow')\n",
    "print(df_data_res.shape)"
   ]
  },
  {
   "cell_type": "code",
   "execution_count": 13,
   "metadata": {},
   "outputs": [],
   "source": [
    "df_res_short = df_data_res[df_data_res['tokens_count'] < 256]"
   ]
  },
  {
   "cell_type": "markdown",
   "metadata": {},
   "source": [
    "It is possible to reduce the size of the too big reviews using a text2text pretrained model. \n",
    "Exemple bellow uses pytorch"
   ]
  },
  {
   "cell_type": "code",
   "execution_count": 14,
   "metadata": {},
   "outputs": [
    {
     "name": "stdout",
     "output_type": "stream",
     "text": [
      "Error : No module named 'torch'\n"
     ]
    }
   ],
   "source": [
    "\"\"\"Generate smaller text from bigger text using transformer tokenizer\"\"\"\n",
    "\n",
    "try: \n",
    "    import torch \n",
    "    \n",
    "    model_name = \"allenai/led-large-16384-arxiv\"\n",
    "    tokenizer = AutoTokenizer.from_pretrained(model_name)\n",
    "    model = AutoModelForSeq2SeqLM.from_pretrained(model_name)\n",
    "    \n",
    "    pipe = pipeline(\"text2text-generation\", model=model, tokenizer=tokenizer, device=0)\n",
    "\n",
    "    # apply below function to all reviews \n",
    "    def generate_smaller_text(text : str, length : int = 64) -> str:\n",
    "        generated_text = pipe(\n",
    "            text, \n",
    "            truncation=True, \n",
    "            max_length=length, \n",
    "            no_repeat_ngram_size=5, \n",
    "            num_beams=3, \n",
    "            early_stopping=True\n",
    "        )\n",
    "\n",
    "except ImportError as e:\n",
    "    print(\"Error : {}\".format(e))\n",
    "    "
   ]
  },
  {
   "cell_type": "code",
   "execution_count": 18,
   "metadata": {},
   "outputs": [],
   "source": [
    "review_list = df_res_short['text'].to_list()\n",
    "# sentiments = sent_pipe(review_list)\n",
    "df_sentiments = pd.DataFrame(sentiments)\n",
    "df_sentiments.rename(columns={'label':'sentiment', 'score':'sent_score'}, inplace=True)"
   ]
  },
  {
   "cell_type": "markdown",
   "metadata": {},
   "source": [
    "#### 2.4 Sentiment Analysis"
   ]
  },
  {
   "cell_type": "code",
   "execution_count": 3,
   "metadata": {},
   "outputs": [],
   "source": [
    "# Function to calculate sentiment score from pretrained models\n",
    "def get_sentiment(text):\n",
    "    return TextBlob(text).sentiment.polarity"
   ]
  },
  {
   "cell_type": "code",
   "execution_count": 8,
   "metadata": {},
   "outputs": [
    {
     "name": "stdout",
     "output_type": "stream",
     "text": [
      "65.04774618148804\n"
     ]
    }
   ],
   "source": [
    "# Calculate sentiment for each review\n",
    "df_data_res['sentiment'] = df_data_res['text'].apply(get_sentiment)"
   ]
  },
  {
   "cell_type": "code",
   "execution_count": 60,
   "metadata": {},
   "outputs": [
    {
     "data": {
      "text/html": [
       "<div>\n",
       "<style scoped>\n",
       "    .dataframe tbody tr th:only-of-type {\n",
       "        vertical-align: middle;\n",
       "    }\n",
       "\n",
       "    .dataframe tbody tr th {\n",
       "        vertical-align: top;\n",
       "    }\n",
       "\n",
       "    .dataframe thead th {\n",
       "        text-align: right;\n",
       "    }\n",
       "</style>\n",
       "<table border=\"1\" class=\"dataframe\">\n",
       "  <thead>\n",
       "    <tr style=\"text-align: right;\">\n",
       "      <th></th>\n",
       "      <th>index</th>\n",
       "      <th>business_id</th>\n",
       "      <th>postal_code_int</th>\n",
       "      <th>attributes_list</th>\n",
       "      <th>hours_list</th>\n",
       "      <th>categories_list</th>\n",
       "      <th>rating</th>\n",
       "      <th>useful</th>\n",
       "      <th>funny</th>\n",
       "      <th>cool</th>\n",
       "      <th>text</th>\n",
       "      <th>text_tokens</th>\n",
       "      <th>tokens_count</th>\n",
       "      <th>sentiment</th>\n",
       "    </tr>\n",
       "  </thead>\n",
       "  <tbody>\n",
       "    <tr>\n",
       "      <th>0</th>\n",
       "      <td>0</td>\n",
       "      <td>wm9eoqjytVbC7dQcM4WSTM</td>\n",
       "      <td>19107.0</td>\n",
       "      <td>[Alcohol, BikeParking, BusinessAcceptsCreditCa...</td>\n",
       "      <td>[[7.0, 20.0], [7.0, 20.0], [7.0, 20.0], [7.0, ...</td>\n",
       "      <td>[bakeries, bubble tea, coffee &amp; tea, food, res...</td>\n",
       "      <td>4</td>\n",
       "      <td>1</td>\n",
       "      <td>0</td>\n",
       "      <td>2</td>\n",
       "      <td>So I don't know how the other review was doubl...</td>\n",
       "      <td>[so, i, do, n't, know, how, the, other, review...</td>\n",
       "      <td>182</td>\n",
       "      <td>0.177976</td>\n",
       "    </tr>\n",
       "    <tr>\n",
       "      <th>1</th>\n",
       "      <td>1</td>\n",
       "      <td>wm9eoqjytVbC7dQcM4WSTM</td>\n",
       "      <td>19107.0</td>\n",
       "      <td>[Alcohol, BikeParking, BusinessAcceptsCreditCa...</td>\n",
       "      <td>[[7.0, 20.0], [7.0, 20.0], [7.0, 20.0], [7.0, ...</td>\n",
       "      <td>[bakeries, bubble tea, coffee &amp; tea, food, res...</td>\n",
       "      <td>5</td>\n",
       "      <td>0</td>\n",
       "      <td>0</td>\n",
       "      <td>0</td>\n",
       "      <td>I love this place..  I love their chunky fried...</td>\n",
       "      <td>[i, love, this, place, .., i, love, their, chu...</td>\n",
       "      <td>47</td>\n",
       "      <td>0.375000</td>\n",
       "    </tr>\n",
       "    <tr>\n",
       "      <th>2</th>\n",
       "      <td>2</td>\n",
       "      <td>wm9eoqjytVbC7dQcM4WSTM</td>\n",
       "      <td>19107.0</td>\n",
       "      <td>[Alcohol, BikeParking, BusinessAcceptsCreditCa...</td>\n",
       "      <td>[[7.0, 20.0], [7.0, 20.0], [7.0, 20.0], [7.0, ...</td>\n",
       "      <td>[bakeries, bubble tea, coffee &amp; tea, food, res...</td>\n",
       "      <td>5</td>\n",
       "      <td>0</td>\n",
       "      <td>0</td>\n",
       "      <td>1</td>\n",
       "      <td>I ordered so many cake from here for our famil...</td>\n",
       "      <td>[i, ordered, so, many, cake, from, here, for, ...</td>\n",
       "      <td>35</td>\n",
       "      <td>0.366667</td>\n",
       "    </tr>\n",
       "    <tr>\n",
       "      <th>3</th>\n",
       "      <td>3</td>\n",
       "      <td>wm9eoqjytVbC7dQcM4WSTM</td>\n",
       "      <td>19107.0</td>\n",
       "      <td>[Alcohol, BikeParking, BusinessAcceptsCreditCa...</td>\n",
       "      <td>[[7.0, 20.0], [7.0, 20.0], [7.0, 20.0], [7.0, ...</td>\n",
       "      <td>[bakeries, bubble tea, coffee &amp; tea, food, res...</td>\n",
       "      <td>4</td>\n",
       "      <td>0</td>\n",
       "      <td>0</td>\n",
       "      <td>0</td>\n",
       "      <td>Ordered a birthday cake here for the first tim...</td>\n",
       "      <td>[ordered, a, birthday, cake, here, for, the, f...</td>\n",
       "      <td>203</td>\n",
       "      <td>0.234841</td>\n",
       "    </tr>\n",
       "    <tr>\n",
       "      <th>4</th>\n",
       "      <td>4</td>\n",
       "      <td>wm9eoqjytVbC7dQcM4WSTM</td>\n",
       "      <td>19107.0</td>\n",
       "      <td>[Alcohol, BikeParking, BusinessAcceptsCreditCa...</td>\n",
       "      <td>[[7.0, 20.0], [7.0, 20.0], [7.0, 20.0], [7.0, ...</td>\n",
       "      <td>[bakeries, bubble tea, coffee &amp; tea, food, res...</td>\n",
       "      <td>5</td>\n",
       "      <td>1</td>\n",
       "      <td>0</td>\n",
       "      <td>0</td>\n",
       "      <td>This is my favorite bakery in Chinatown! It's ...</td>\n",
       "      <td>[this, is, my, favorite, bakery, in, chinatown...</td>\n",
       "      <td>114</td>\n",
       "      <td>0.288961</td>\n",
       "    </tr>\n",
       "    <tr>\n",
       "      <th>...</th>\n",
       "      <td>...</td>\n",
       "      <td>...</td>\n",
       "      <td>...</td>\n",
       "      <td>...</td>\n",
       "      <td>...</td>\n",
       "      <td>...</td>\n",
       "      <td>...</td>\n",
       "      <td>...</td>\n",
       "      <td>...</td>\n",
       "      <td>...</td>\n",
       "      <td>...</td>\n",
       "      <td>...</td>\n",
       "      <td>...</td>\n",
       "      <td>...</td>\n",
       "    </tr>\n",
       "    <tr>\n",
       "      <th>123409</th>\n",
       "      <td>176522</td>\n",
       "      <td>gSkyrataUwvsAMli-L39n8</td>\n",
       "      <td>19104.0</td>\n",
       "      <td>[Alcohol, Ambience, BikeParking, BusinessAccep...</td>\n",
       "      <td>[[9.0, 19.5], [9.0, 19.5], [9.0, 19.5], [9.0, ...</td>\n",
       "      <td>[american (traditional), coffee &amp; tea, food, r...</td>\n",
       "      <td>5</td>\n",
       "      <td>4</td>\n",
       "      <td>0</td>\n",
       "      <td>1</td>\n",
       "      <td>I don't know how this place doesn't have five ...</td>\n",
       "      <td>[i, do, n't, know, how, this, place, does, n't...</td>\n",
       "      <td>140</td>\n",
       "      <td>0.278125</td>\n",
       "    </tr>\n",
       "    <tr>\n",
       "      <th>123410</th>\n",
       "      <td>176545</td>\n",
       "      <td>QscEk0TPjLIlLgQzIN9TnW</td>\n",
       "      <td>19147.0</td>\n",
       "      <td>[Alcohol, Ambience, BikeParking, BusinessAccep...</td>\n",
       "      <td>[[11.0, 22.0], [11.0, 22.0], [-1.0, -1.0], [11...</td>\n",
       "      <td>[mexican, restaurants]</td>\n",
       "      <td>5</td>\n",
       "      <td>2</td>\n",
       "      <td>1</td>\n",
       "      <td>1</td>\n",
       "      <td>First time trying this restaurant and I had a ...</td>\n",
       "      <td>[first, time, trying, this, restaurant, and, i...</td>\n",
       "      <td>140</td>\n",
       "      <td>0.395739</td>\n",
       "    </tr>\n",
       "    <tr>\n",
       "      <th>123411</th>\n",
       "      <td>176546</td>\n",
       "      <td>QscEk0TPjLIlLgQzIN9TnW</td>\n",
       "      <td>19147.0</td>\n",
       "      <td>[Alcohol, Ambience, BikeParking, BusinessAccep...</td>\n",
       "      <td>[[11.0, 22.0], [11.0, 22.0], [-1.0, -1.0], [11...</td>\n",
       "      <td>[mexican, restaurants]</td>\n",
       "      <td>5</td>\n",
       "      <td>1</td>\n",
       "      <td>0</td>\n",
       "      <td>0</td>\n",
       "      <td>Amazing food and wonderful service! We got the...</td>\n",
       "      <td>[amazing, food, and, wonderful, service, !, we...</td>\n",
       "      <td>61</td>\n",
       "      <td>0.706399</td>\n",
       "    </tr>\n",
       "    <tr>\n",
       "      <th>123412</th>\n",
       "      <td>176547</td>\n",
       "      <td>QscEk0TPjLIlLgQzIN9TnW</td>\n",
       "      <td>19147.0</td>\n",
       "      <td>[Alcohol, Ambience, BikeParking, BusinessAccep...</td>\n",
       "      <td>[[11.0, 22.0], [11.0, 22.0], [-1.0, -1.0], [11...</td>\n",
       "      <td>[mexican, restaurants]</td>\n",
       "      <td>5</td>\n",
       "      <td>1</td>\n",
       "      <td>0</td>\n",
       "      <td>0</td>\n",
       "      <td>This hidden gem in south philly is why we need...</td>\n",
       "      <td>[this, hidden, gem, in, south, philly, is, why...</td>\n",
       "      <td>97</td>\n",
       "      <td>0.294039</td>\n",
       "    </tr>\n",
       "    <tr>\n",
       "      <th>123413</th>\n",
       "      <td>176548</td>\n",
       "      <td>QscEk0TPjLIlLgQzIN9TnW</td>\n",
       "      <td>19147.0</td>\n",
       "      <td>[Alcohol, Ambience, BikeParking, BusinessAccep...</td>\n",
       "      <td>[[11.0, 22.0], [11.0, 22.0], [-1.0, -1.0], [11...</td>\n",
       "      <td>[mexican, restaurants]</td>\n",
       "      <td>5</td>\n",
       "      <td>4</td>\n",
       "      <td>2</td>\n",
       "      <td>1</td>\n",
       "      <td>Love, love, love Adelita's! Wandered\\nIn after...</td>\n",
       "      <td>[love, ,, love, ,, love, adelita, 's, !, wande...</td>\n",
       "      <td>84</td>\n",
       "      <td>0.384615</td>\n",
       "    </tr>\n",
       "  </tbody>\n",
       "</table>\n",
       "<p>123414 rows × 14 columns</p>\n",
       "</div>"
      ],
      "text/plain": [
       "         index             business_id  postal_code_int  \\\n",
       "0            0  wm9eoqjytVbC7dQcM4WSTM          19107.0   \n",
       "1            1  wm9eoqjytVbC7dQcM4WSTM          19107.0   \n",
       "2            2  wm9eoqjytVbC7dQcM4WSTM          19107.0   \n",
       "3            3  wm9eoqjytVbC7dQcM4WSTM          19107.0   \n",
       "4            4  wm9eoqjytVbC7dQcM4WSTM          19107.0   \n",
       "...        ...                     ...              ...   \n",
       "123409  176522  gSkyrataUwvsAMli-L39n8          19104.0   \n",
       "123410  176545  QscEk0TPjLIlLgQzIN9TnW          19147.0   \n",
       "123411  176546  QscEk0TPjLIlLgQzIN9TnW          19147.0   \n",
       "123412  176547  QscEk0TPjLIlLgQzIN9TnW          19147.0   \n",
       "123413  176548  QscEk0TPjLIlLgQzIN9TnW          19147.0   \n",
       "\n",
       "                                          attributes_list  \\\n",
       "0       [Alcohol, BikeParking, BusinessAcceptsCreditCa...   \n",
       "1       [Alcohol, BikeParking, BusinessAcceptsCreditCa...   \n",
       "2       [Alcohol, BikeParking, BusinessAcceptsCreditCa...   \n",
       "3       [Alcohol, BikeParking, BusinessAcceptsCreditCa...   \n",
       "4       [Alcohol, BikeParking, BusinessAcceptsCreditCa...   \n",
       "...                                                   ...   \n",
       "123409  [Alcohol, Ambience, BikeParking, BusinessAccep...   \n",
       "123410  [Alcohol, Ambience, BikeParking, BusinessAccep...   \n",
       "123411  [Alcohol, Ambience, BikeParking, BusinessAccep...   \n",
       "123412  [Alcohol, Ambience, BikeParking, BusinessAccep...   \n",
       "123413  [Alcohol, Ambience, BikeParking, BusinessAccep...   \n",
       "\n",
       "                                               hours_list  \\\n",
       "0       [[7.0, 20.0], [7.0, 20.0], [7.0, 20.0], [7.0, ...   \n",
       "1       [[7.0, 20.0], [7.0, 20.0], [7.0, 20.0], [7.0, ...   \n",
       "2       [[7.0, 20.0], [7.0, 20.0], [7.0, 20.0], [7.0, ...   \n",
       "3       [[7.0, 20.0], [7.0, 20.0], [7.0, 20.0], [7.0, ...   \n",
       "4       [[7.0, 20.0], [7.0, 20.0], [7.0, 20.0], [7.0, ...   \n",
       "...                                                   ...   \n",
       "123409  [[9.0, 19.5], [9.0, 19.5], [9.0, 19.5], [9.0, ...   \n",
       "123410  [[11.0, 22.0], [11.0, 22.0], [-1.0, -1.0], [11...   \n",
       "123411  [[11.0, 22.0], [11.0, 22.0], [-1.0, -1.0], [11...   \n",
       "123412  [[11.0, 22.0], [11.0, 22.0], [-1.0, -1.0], [11...   \n",
       "123413  [[11.0, 22.0], [11.0, 22.0], [-1.0, -1.0], [11...   \n",
       "\n",
       "                                          categories_list  rating  useful  \\\n",
       "0       [bakeries, bubble tea, coffee & tea, food, res...       4       1   \n",
       "1       [bakeries, bubble tea, coffee & tea, food, res...       5       0   \n",
       "2       [bakeries, bubble tea, coffee & tea, food, res...       5       0   \n",
       "3       [bakeries, bubble tea, coffee & tea, food, res...       4       0   \n",
       "4       [bakeries, bubble tea, coffee & tea, food, res...       5       1   \n",
       "...                                                   ...     ...     ...   \n",
       "123409  [american (traditional), coffee & tea, food, r...       5       4   \n",
       "123410                             [mexican, restaurants]       5       2   \n",
       "123411                             [mexican, restaurants]       5       1   \n",
       "123412                             [mexican, restaurants]       5       1   \n",
       "123413                             [mexican, restaurants]       5       4   \n",
       "\n",
       "        funny  cool                                               text  \\\n",
       "0           0     2  So I don't know how the other review was doubl...   \n",
       "1           0     0  I love this place..  I love their chunky fried...   \n",
       "2           0     1  I ordered so many cake from here for our famil...   \n",
       "3           0     0  Ordered a birthday cake here for the first tim...   \n",
       "4           0     0  This is my favorite bakery in Chinatown! It's ...   \n",
       "...       ...   ...                                                ...   \n",
       "123409      0     1  I don't know how this place doesn't have five ...   \n",
       "123410      1     1  First time trying this restaurant and I had a ...   \n",
       "123411      0     0  Amazing food and wonderful service! We got the...   \n",
       "123412      0     0  This hidden gem in south philly is why we need...   \n",
       "123413      2     1  Love, love, love Adelita's! Wandered\\nIn after...   \n",
       "\n",
       "                                              text_tokens  tokens_count  \\\n",
       "0       [so, i, do, n't, know, how, the, other, review...           182   \n",
       "1       [i, love, this, place, .., i, love, their, chu...            47   \n",
       "2       [i, ordered, so, many, cake, from, here, for, ...            35   \n",
       "3       [ordered, a, birthday, cake, here, for, the, f...           203   \n",
       "4       [this, is, my, favorite, bakery, in, chinatown...           114   \n",
       "...                                                   ...           ...   \n",
       "123409  [i, do, n't, know, how, this, place, does, n't...           140   \n",
       "123410  [first, time, trying, this, restaurant, and, i...           140   \n",
       "123411  [amazing, food, and, wonderful, service, !, we...            61   \n",
       "123412  [this, hidden, gem, in, south, philly, is, why...            97   \n",
       "123413  [love, ,, love, ,, love, adelita, 's, !, wande...            84   \n",
       "\n",
       "        sentiment  \n",
       "0        0.177976  \n",
       "1        0.375000  \n",
       "2        0.366667  \n",
       "3        0.234841  \n",
       "4        0.288961  \n",
       "...           ...  \n",
       "123409   0.278125  \n",
       "123410   0.395739  \n",
       "123411   0.706399  \n",
       "123412   0.294039  \n",
       "123413   0.384615  \n",
       "\n",
       "[123414 rows x 14 columns]"
      ]
     },
     "execution_count": 60,
     "metadata": {},
     "output_type": "execute_result"
    }
   ],
   "source": [
    "df_data_attr"
   ]
  },
  {
   "cell_type": "code",
   "execution_count": 12,
   "metadata": {},
   "outputs": [],
   "source": [
    "# Initialize dictionaries to store ratings and sentiments for each attribute\n",
    "attribute_ratings = defaultdict(list)\n",
    "attribute_sentiments = defaultdict(list)\n",
    "\n",
    "# Populate the dictionaries\n",
    "for index, row in df_data_res.iterrows():\n",
    "    for attribute in row['attributes_list']:\n",
    "        attribute_ratings[attribute].append(row['rating'])\n",
    "        attribute_sentiments[attribute].append(row['sentiment'])\n",
    "\n",
    "# Calculate the mean rating and mean sentiment for each attribute\n",
    "attribute_mean_ratings = {attr: sum(ratings) / len(ratings) for attr, ratings in attribute_ratings.items()}\n",
    "attribute_mean_sentiments = {attr: sum(sentiments) / len(sentiments) for attr, sentiments in attribute_sentiments.items()}"
   ]
  },
  {
   "cell_type": "code",
   "execution_count": 58,
   "metadata": {},
   "outputs": [
    {
     "data": {
      "text/plain": [
       "{'Alcohol': 3.785098982264783,\n",
       " 'BikeParking': 3.80400225933995,\n",
       " 'BusinessAcceptsCreditCards': 3.781729106628242,\n",
       " 'BusinessParking': 3.78744981166439,\n",
       " 'ByAppointmentOnly': 4.02927294398093,\n",
       " 'Caters': 3.800903277735545,\n",
       " 'OutdoorSeating': 3.7850119227172,\n",
       " 'RestaurantsDelivery': 3.783843639626882,\n",
       " 'RestaurantsPriceRange2': 3.7765894984063078,\n",
       " 'RestaurantsTakeOut': 3.7820209391384383,\n",
       " 'WiFi': 3.7988663614562896,\n",
       " 'Ambience': 3.7846320067913464,\n",
       " 'DogsAllowed': 3.9527969947816626,\n",
       " 'GoodForKids': 3.7734096714218692,\n",
       " 'GoodForMeal': 3.8226466307383657,\n",
       " 'HappyHour': 3.8594646416995113,\n",
       " 'HasTV': 3.7855596162240346,\n",
       " 'NoiseLevel': 3.7891466409013144,\n",
       " 'RestaurantsAttire': 3.7712933893433562,\n",
       " 'RestaurantsGoodForGroups': 3.7733772236765937,\n",
       " 'RestaurantsReservations': 3.7801114956441686,\n",
       " 'RestaurantsTableService': 3.8755975333246684,\n",
       " 'WheelchairAccessible': 3.896518866725956,\n",
       " 'GoodForDancing': 3.7364478981368787,\n",
       " 'Music': 3.714301144955714,\n",
       " 'Smoking': 3.8212417557425518,\n",
       " 'BYOB': 3.962653072532831,\n",
       " 'CoatCheck': 3.7761832061068703,\n",
       " 'BusinessAcceptsBitcoin': 3.921835204648994,\n",
       " 'BestNights': 3.732392700902534,\n",
       " 'BYOBCorkage': 3.7679806362378976,\n",
       " 'Corkage': 3.8914874793245375,\n",
       " 'DriveThru': 3.6830641439778495,\n",
       " 'Open24Hours': 3.75,\n",
       " 'AgesAllowed': 3.3394495412844036,\n",
       " 'AcceptsInsurance': 4.5,\n",
       " 'DietaryRestrictions': 4.357142857142857,\n",
       " 'RestaurantsCounterService': 4.135646687697161}"
      ]
     },
     "execution_count": 58,
     "metadata": {},
     "output_type": "execute_result"
    }
   ],
   "source": [
    "attribute_mean_ratings"
   ]
  }
 ],
 "metadata": {
  "kernelspec": {
   "display_name": "venv",
   "language": "python",
   "name": "venv"
  },
  "language_info": {
   "codemirror_mode": {
    "name": "ipython",
    "version": 3
   },
   "file_extension": ".py",
   "mimetype": "text/x-python",
   "name": "python",
   "nbconvert_exporter": "python",
   "pygments_lexer": "ipython3",
   "version": "3.8.10"
  }
 },
 "nbformat": 4,
 "nbformat_minor": 4
}
